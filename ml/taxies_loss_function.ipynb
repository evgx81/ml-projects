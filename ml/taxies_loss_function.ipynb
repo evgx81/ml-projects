{
 "cells": [
  {
   "cell_type": "code",
   "execution_count": 4,
   "id": "f4812f7f-31f7-4721-89c8-673146c2fc0d",
   "metadata": {},
   "outputs": [],
   "source": [
    "import pandas as pd"
   ]
  },
  {
   "cell_type": "code",
   "execution_count": 5,
   "id": "a8032d54-a842-48cb-bb2f-ee2cc12a6bc5",
   "metadata": {},
   "outputs": [],
   "source": [
    "import numpy as np"
   ]
  },
  {
   "cell_type": "code",
   "execution_count": 50,
   "id": "ea9ed845-5dc6-41e2-aaf0-6f6e55d1e111",
   "metadata": {},
   "outputs": [],
   "source": [
    "import matplotlib.pyplot as plt"
   ]
  },
  {
   "cell_type": "code",
   "execution_count": 6,
   "id": "25538820-2167-41cb-8584-1c15ef9ff93a",
   "metadata": {},
   "outputs": [],
   "source": [
    "taxies = pd.read_csv(\"taxi_dataset_with_predictions.csv\", index_col=0)"
   ]
  },
  {
   "cell_type": "code",
   "execution_count": 7,
   "id": "bf0326d9-2cb1-41e4-a781-646b89cac43a",
   "metadata": {},
   "outputs": [
    {
     "data": {
      "text/html": [
       "<div>\n",
       "<style scoped>\n",
       "    .dataframe tbody tr th:only-of-type {\n",
       "        vertical-align: middle;\n",
       "    }\n",
       "\n",
       "    .dataframe tbody tr th {\n",
       "        vertical-align: top;\n",
       "    }\n",
       "\n",
       "    .dataframe thead th {\n",
       "        text-align: right;\n",
       "    }\n",
       "</style>\n",
       "<table border=\"1\" class=\"dataframe\">\n",
       "  <thead>\n",
       "    <tr style=\"text-align: right;\">\n",
       "      <th></th>\n",
       "      <th>vendor_id</th>\n",
       "      <th>pickup_datetime</th>\n",
       "      <th>passenger_count</th>\n",
       "      <th>store_and_fwd_flag</th>\n",
       "      <th>trip_duration</th>\n",
       "      <th>distance_km</th>\n",
       "      <th>prediction_1</th>\n",
       "      <th>prediction_2</th>\n",
       "    </tr>\n",
       "    <tr>\n",
       "      <th>id</th>\n",
       "      <th></th>\n",
       "      <th></th>\n",
       "      <th></th>\n",
       "      <th></th>\n",
       "      <th></th>\n",
       "      <th></th>\n",
       "      <th></th>\n",
       "      <th></th>\n",
       "    </tr>\n",
       "  </thead>\n",
       "  <tbody>\n",
       "    <tr>\n",
       "      <th>id2875421</th>\n",
       "      <td>1</td>\n",
       "      <td>2016-03-14 17:24:55</td>\n",
       "      <td>930.399753</td>\n",
       "      <td>0</td>\n",
       "      <td>455.0</td>\n",
       "      <td>1.500479</td>\n",
       "      <td>578.156451</td>\n",
       "      <td>355.270710</td>\n",
       "    </tr>\n",
       "    <tr>\n",
       "      <th>id2377394</th>\n",
       "      <td>0</td>\n",
       "      <td>2016-06-12 00:43:35</td>\n",
       "      <td>930.399753</td>\n",
       "      <td>0</td>\n",
       "      <td>663.0</td>\n",
       "      <td>1.807119</td>\n",
       "      <td>962.657188</td>\n",
       "      <td>674.295781</td>\n",
       "    </tr>\n",
       "    <tr>\n",
       "      <th>id3858529</th>\n",
       "      <td>1</td>\n",
       "      <td>2016-01-19 11:35:24</td>\n",
       "      <td>930.399753</td>\n",
       "      <td>0</td>\n",
       "      <td>2124.0</td>\n",
       "      <td>6.392080</td>\n",
       "      <td>2546.180515</td>\n",
       "      <td>2422.132431</td>\n",
       "    </tr>\n",
       "    <tr>\n",
       "      <th>id3504673</th>\n",
       "      <td>1</td>\n",
       "      <td>2016-04-06 19:32:31</td>\n",
       "      <td>930.399753</td>\n",
       "      <td>0</td>\n",
       "      <td>429.0</td>\n",
       "      <td>1.487155</td>\n",
       "      <td>737.926214</td>\n",
       "      <td>795.992362</td>\n",
       "    </tr>\n",
       "    <tr>\n",
       "      <th>id2181028</th>\n",
       "      <td>1</td>\n",
       "      <td>2016-03-26 13:30:55</td>\n",
       "      <td>930.399753</td>\n",
       "      <td>0</td>\n",
       "      <td>435.0</td>\n",
       "      <td>1.189925</td>\n",
       "      <td>666.070794</td>\n",
       "      <td>-4.158492</td>\n",
       "    </tr>\n",
       "    <tr>\n",
       "      <th>...</th>\n",
       "      <td>...</td>\n",
       "      <td>...</td>\n",
       "      <td>...</td>\n",
       "      <td>...</td>\n",
       "      <td>...</td>\n",
       "      <td>...</td>\n",
       "      <td>...</td>\n",
       "      <td>...</td>\n",
       "    </tr>\n",
       "    <tr>\n",
       "      <th>id2376096</th>\n",
       "      <td>1</td>\n",
       "      <td>2016-04-08 13:31:04</td>\n",
       "      <td>1053.529749</td>\n",
       "      <td>0</td>\n",
       "      <td>778.0</td>\n",
       "      <td>1.226296</td>\n",
       "      <td>1090.926494</td>\n",
       "      <td>1230.540125</td>\n",
       "    </tr>\n",
       "    <tr>\n",
       "      <th>id1049543</th>\n",
       "      <td>0</td>\n",
       "      <td>2016-01-10 07:35:15</td>\n",
       "      <td>930.399753</td>\n",
       "      <td>0</td>\n",
       "      <td>655.0</td>\n",
       "      <td>6.056935</td>\n",
       "      <td>883.318745</td>\n",
       "      <td>1568.424070</td>\n",
       "    </tr>\n",
       "    <tr>\n",
       "      <th>id2304944</th>\n",
       "      <td>1</td>\n",
       "      <td>2016-04-22 06:57:41</td>\n",
       "      <td>930.399753</td>\n",
       "      <td>0</td>\n",
       "      <td>764.0</td>\n",
       "      <td>7.832952</td>\n",
       "      <td>1002.554003</td>\n",
       "      <td>780.697509</td>\n",
       "    </tr>\n",
       "    <tr>\n",
       "      <th>id2714485</th>\n",
       "      <td>0</td>\n",
       "      <td>2016-01-05 15:56:26</td>\n",
       "      <td>930.399753</td>\n",
       "      <td>0</td>\n",
       "      <td>373.0</td>\n",
       "      <td>1.093786</td>\n",
       "      <td>809.069587</td>\n",
       "      <td>641.495195</td>\n",
       "    </tr>\n",
       "    <tr>\n",
       "      <th>id1209952</th>\n",
       "      <td>0</td>\n",
       "      <td>2016-04-05 14:44:25</td>\n",
       "      <td>930.399753</td>\n",
       "      <td>0</td>\n",
       "      <td>198.0</td>\n",
       "      <td>1.135453</td>\n",
       "      <td>382.109137</td>\n",
       "      <td>150.075953</td>\n",
       "    </tr>\n",
       "  </tbody>\n",
       "</table>\n",
       "<p>1458644 rows × 8 columns</p>\n",
       "</div>"
      ],
      "text/plain": [
       "           vendor_id      pickup_datetime  passenger_count  \\\n",
       "id                                                           \n",
       "id2875421          1  2016-03-14 17:24:55       930.399753   \n",
       "id2377394          0  2016-06-12 00:43:35       930.399753   \n",
       "id3858529          1  2016-01-19 11:35:24       930.399753   \n",
       "id3504673          1  2016-04-06 19:32:31       930.399753   \n",
       "id2181028          1  2016-03-26 13:30:55       930.399753   \n",
       "...              ...                  ...              ...   \n",
       "id2376096          1  2016-04-08 13:31:04      1053.529749   \n",
       "id1049543          0  2016-01-10 07:35:15       930.399753   \n",
       "id2304944          1  2016-04-22 06:57:41       930.399753   \n",
       "id2714485          0  2016-01-05 15:56:26       930.399753   \n",
       "id1209952          0  2016-04-05 14:44:25       930.399753   \n",
       "\n",
       "           store_and_fwd_flag  trip_duration  distance_km  prediction_1  \\\n",
       "id                                                                        \n",
       "id2875421                   0          455.0     1.500479    578.156451   \n",
       "id2377394                   0          663.0     1.807119    962.657188   \n",
       "id3858529                   0         2124.0     6.392080   2546.180515   \n",
       "id3504673                   0          429.0     1.487155    737.926214   \n",
       "id2181028                   0          435.0     1.189925    666.070794   \n",
       "...                       ...            ...          ...           ...   \n",
       "id2376096                   0          778.0     1.226296   1090.926494   \n",
       "id1049543                   0          655.0     6.056935    883.318745   \n",
       "id2304944                   0          764.0     7.832952   1002.554003   \n",
       "id2714485                   0          373.0     1.093786    809.069587   \n",
       "id1209952                   0          198.0     1.135453    382.109137   \n",
       "\n",
       "           prediction_2  \n",
       "id                       \n",
       "id2875421    355.270710  \n",
       "id2377394    674.295781  \n",
       "id3858529   2422.132431  \n",
       "id3504673    795.992362  \n",
       "id2181028     -4.158492  \n",
       "...                 ...  \n",
       "id2376096   1230.540125  \n",
       "id1049543   1568.424070  \n",
       "id2304944    780.697509  \n",
       "id2714485    641.495195  \n",
       "id1209952    150.075953  \n",
       "\n",
       "[1458644 rows x 8 columns]"
      ]
     },
     "execution_count": 7,
     "metadata": {},
     "output_type": "execute_result"
    }
   ],
   "source": [
    "taxies"
   ]
  },
  {
   "cell_type": "markdown",
   "id": "15b2a99f-1af0-4edc-be99-44c039577411",
   "metadata": {},
   "source": [
    "Посчитаем **MSE** для обеих моделей: \n",
    "\n",
    "$$\n",
    "MSE = \\frac{1}{n} \\sum_i^n (a(x_i)-y_i)^2\n",
    "$$"
   ]
  },
  {
   "cell_type": "code",
   "execution_count": 8,
   "id": "a442ddfd-94f7-47bc-9864-b80b9e3842cb",
   "metadata": {},
   "outputs": [],
   "source": [
    "mse_1 = ((taxies['prediction_1'] - taxies['trip_duration']) ** 2).mean()"
   ]
  },
  {
   "cell_type": "code",
   "execution_count": 9,
   "id": "82699285-a837-45a5-8587-6273df4d18ff",
   "metadata": {},
   "outputs": [],
   "source": [
    "mse_2 = ((taxies['prediction_2'] - taxies['trip_duration']) ** 2).mean()"
   ]
  },
  {
   "cell_type": "code",
   "execution_count": 10,
   "id": "629f77a2-0a1c-4036-896e-ddde17c08736",
   "metadata": {},
   "outputs": [
    {
     "name": "stdout",
     "output_type": "stream",
     "text": [
      "99994 124936\n"
     ]
    }
   ],
   "source": [
    "print(int(mse_1), int(mse_2))"
   ]
  },
  {
   "cell_type": "markdown",
   "id": "180673b9-8fc8-4bee-940c-61f34b70b238",
   "metadata": {},
   "source": [
    "Видим, что **MSE** имеет достаточно большой порядок."
   ]
  },
  {
   "cell_type": "markdown",
   "id": "43cb3fb2-2482-48de-abe2-3954ba08acf7",
   "metadata": {},
   "source": [
    "Посчитаем значение **RMSE** для обеих моделей:\n",
    "\n",
    "$$\n",
    "RMSE = \\sqrt{MSE} = \\sqrt{\\frac{1}{n} \\sum_i^n (a(x_i)-y_i)^2}\n",
    "$$"
   ]
  },
  {
   "cell_type": "code",
   "execution_count": 11,
   "id": "274b3ca1-ee22-440e-bae7-f381bcf414b0",
   "metadata": {},
   "outputs": [],
   "source": [
    "rmse_1 = ((taxies['prediction_1'] - taxies['trip_duration']) ** 2).mean() ** (1/2)"
   ]
  },
  {
   "cell_type": "code",
   "execution_count": 12,
   "id": "bb2ad1ab-90e8-4a43-bac6-64d08a458b25",
   "metadata": {},
   "outputs": [],
   "source": [
    "rmse_2 = ((taxies['prediction_2'] - taxies['trip_duration']) ** 2).mean() ** (1/2)"
   ]
  },
  {
   "cell_type": "code",
   "execution_count": 13,
   "id": "b824614a-0dcf-41b1-abbd-9dbb89ef3eda",
   "metadata": {},
   "outputs": [
    {
     "name": "stdout",
     "output_type": "stream",
     "text": [
      "316 353\n"
     ]
    }
   ],
   "source": [
    "print(int(rmse_1), int(rmse_2))"
   ]
  },
  {
   "cell_type": "markdown",
   "id": "d1e9c21e-44d7-43b1-9f0b-7defff8e665c",
   "metadata": {},
   "source": [
    "Посчитаем значение **MAE** для обеих моделей:\n",
    "\n",
    "$$\n",
    "MAE = \\frac{1}{n} \\sum_i^n |a(x_i)-y_i|\n",
    "$$"
   ]
  },
  {
   "cell_type": "code",
   "execution_count": 14,
   "id": "353a12bf-77bd-4c44-b67b-750a8e94862e",
   "metadata": {},
   "outputs": [],
   "source": [
    "mae_1 = (np.abs(taxies['prediction_1'] - taxies['trip_duration'])).mean()"
   ]
  },
  {
   "cell_type": "code",
   "execution_count": 15,
   "id": "b41ca79f-57dc-4062-b265-0c2158bce9c3",
   "metadata": {},
   "outputs": [],
   "source": [
    "mae_2 = (np.abs(taxies['prediction_2'] - taxies['trip_duration'])).mean()"
   ]
  },
  {
   "cell_type": "code",
   "execution_count": 16,
   "id": "f13845ab-b1be-4c87-ab3e-d23c26fa3a53",
   "metadata": {},
   "outputs": [
    {
     "name": "stdout",
     "output_type": "stream",
     "text": [
      "300 281\n"
     ]
    }
   ],
   "source": [
    "print(int(mae_1), int(mae_2))"
   ]
  },
  {
   "cell_type": "markdown",
   "id": "bdc358aa-3099-48ae-bd69-b4495bc69b1e",
   "metadata": {},
   "source": [
    "Непонятно, какая модель лучше."
   ]
  },
  {
   "cell_type": "markdown",
   "id": "5b1537fa-4b5c-41d8-a7ed-e506642de776",
   "metadata": {},
   "source": [
    "Давайте убедимся в том, что фатальных ошибок у второй модели больше."
   ]
  },
  {
   "cell_type": "markdown",
   "id": "262dfdf3-4e80-4abd-ad6d-48a47439d690",
   "metadata": {},
   "source": [
    "Посчитаем количество случаев, когда предсказания отклоняются от ответа более чем на 500 от правильного ответа для обоих моделей."
   ]
  },
  {
   "cell_type": "code",
   "execution_count": 17,
   "id": "e5accf6c-9fe9-4212-a46b-b54396973c10",
   "metadata": {},
   "outputs": [],
   "source": [
    "counter_1 = (np.abs(taxies['prediction_1'] - taxies['trip_duration']) >= 500).sum()"
   ]
  },
  {
   "cell_type": "code",
   "execution_count": 18,
   "id": "5485af6c-4567-4fe9-a715-b08f7cde5b42",
   "metadata": {},
   "outputs": [],
   "source": [
    "counter_2 = (np.abs(taxies['prediction_2'] - taxies['trip_duration']) >= 500).sum()"
   ]
  },
  {
   "cell_type": "markdown",
   "id": "4d4da915-3b96-4edc-9a04-c766e4afb260",
   "metadata": {},
   "source": [
    "Построим диаграмму рассеивания."
   ]
  },
  {
   "cell_type": "code",
   "execution_count": 56,
   "id": "c8f60f33-35b1-44c8-a16a-7c57681c139f",
   "metadata": {},
   "outputs": [
    {
     "data": {
      "image/png": "[encoded data removed]",
      "text/plain": [
       "<Figure size 640x480 with 1 Axes>"
      ]
     },
     "metadata": {},
     "output_type": "display_data"
    }
   ],
   "source": [
    "n = int(taxies.shape[0]/100)\n",
    "idx = np.arange(0, taxies.shape[0], n)\n",
    "taxies_sub = taxies.iloc[idx]\n",
    "\n",
    "plt.scatter(taxies_sub['prediction_1'], taxies_sub['trip_duration'], label=\"prediction_1\")\n",
    "plt.scatter(taxies_sub['prediction_2'], taxies_sub['trip_duration'], label=\"prediction_2\")\n",
    "plt.plot(taxies_sub['trip_duration'], taxies_sub['trip_duration'], label=\"trip duration\")\n",
    "plt.legend()\n",
    "plt.xlabel('Prediction')\n",
    "plt.ylabel('Trip Duration')\n",
    "plt.show()"
   ]
  },
  {
   "cell_type": "code",
   "execution_count": 19,
   "id": "fd8a961c-0974-456c-a2cc-9543e86b64dc",
   "metadata": {},
   "outputs": [
    {
     "name": "stdout",
     "output_type": "stream",
     "text": [
      "33061 228789\n"
     ]
    }
   ],
   "source": [
    "print(counter_1, counter_2)"
   ]
  },
  {
   "cell_type": "markdown",
   "id": "3ab52186-cd3e-458f-9e5e-926cc4780e51",
   "metadata": {},
   "source": [
    "**Несимметричные метрики**"
   ]
  },
  {
   "cell_type": "markdown",
   "id": "1c0e559f-1cec-4006-a921-92c0ed8e8554",
   "metadata": {},
   "source": [
    "Зачастую, чтобы выбрать среди всего многообразия моделей, мы можем использовать несимметричные метрики такие, как **RMSLE**."
   ]
  },
  {
   "cell_type": "markdown",
   "id": "738abf90-2507-4cd2-8d00-516e23b5a18b",
   "metadata": {},
   "source": [
    "**MSE** и **MAE** относятся к симметричным. Они одинаково наказывают модель как за перепредсказание, так и за недопредсказание. Ошибки +2 и -2 переводятся **MSE** и **MAE** в одинаковую меру: 4 в первом случае и 2 во втором."
   ]
  },
  {
   "attachments": {},
   "cell_type": "markdown",
   "id": "77097192-7b45-47f4-8fa6-b306f4cc205d",
   "metadata": {},
   "source": [
    "\n",
    "\n",
    "В действительности же, можно придумать целый ряд задач, когда лучше выбирать несимметричную метрики."
   ]
  },
  {
   "cell_type": "markdown",
   "id": "1fb5a22a-4db5-47bb-969f-61107eed2284",
   "metadata": {},
   "source": [
    "Представьте, что мы - дистрибьютор инсулина, и нам нужно построить модель, которая оптимизирует поставки. В таком случае кажется, что поставить лекарства на 2 единицы больше и на 2 единицы меньше - совершенно разные сценарии и разная интерпретация катастрофичности ошибки."
   ]
  },
  {
   "cell_type": "markdown",
   "id": "020269cb-1661-4d69-839c-3311eabfac39",
   "metadata": {},
   "source": [
    "В первом случае мы можем потерять немного прибыли, а во втором - лишить пациента жизненно важного лекарства. Поэтому хотелось бы научиться еще и по-разному оценивать недо- и перепредсказания. Для этого и используют несимметричные метрики. Рассчитаем **RMSLE**:\n",
    "\n",
    "$$\n",
    "\\text{RMSLE}(X, y, a) = \\sqrt{\\frac{1}{\\ell}\\sum_{i=1}^{\\ell} \\big(\\log{(y_i + 1)} - \\log{(a(x_i) + 1)}\\big)^2}\n",
    "$$\n"
   ]
  },
  {
   "cell_type": "markdown",
   "id": "ac414912-600a-47a8-9e2f-70ddb6702c53",
   "metadata": {},
   "source": [
    "Очевидно, что для некоторых отрицательных предсказаний, формула не будет работать, так как логарифм от отрицательных значений взять нельзя. Поэтому давайте подкорректируем наши прогнозы: все отрицательные числа переведем в нули (лучше уж в нашей задаче предсказать ноль секунд, чем минус 100 секунд)"
   ]
  },
  {
   "cell_type": "code",
   "execution_count": 21,
   "id": "5bad863d-d27d-4354-86fe-9dd36214a690",
   "metadata": {},
   "outputs": [],
   "source": [
    "taxies.loc[(taxies['prediction_1'] < 0), 'prediction_1'] = 0\n",
    "taxies.loc[(taxies['prediction_2'] < 0), 'prediction_2'] = 0"
   ]
  },
  {
   "cell_type": "code",
   "execution_count": 29,
   "id": "1fd2ef93-e3bc-4ede-8886-f8b6fd0d6a3c",
   "metadata": {},
   "outputs": [
    {
     "data": {
      "text/plain": [
       "0"
      ]
     },
     "execution_count": 29,
     "metadata": {},
     "output_type": "execute_result"
    }
   ],
   "source": [
    "# Проверим, что отрицательных значений нет\n",
    "taxies['prediction_1'][(taxies['prediction_1'] < 0)].count() + taxies['prediction_2'][(taxies['prediction_2'] < 0)].count()"
   ]
  },
  {
   "cell_type": "code",
   "execution_count": 33,
   "id": "cb0828eb-e762-49ec-a768-02fe5a7aa57f",
   "metadata": {},
   "outputs": [],
   "source": [
    "rmsle_1 = round(((np.log(taxies['trip_duration'] + 1) - np.log(taxies['prediction_1'] + 1)) ** 2).mean() ** (1 / 2), 3)"
   ]
  },
  {
   "cell_type": "code",
   "execution_count": 34,
   "id": "f4e192bd-cad0-43da-8602-ac56f3d1fde0",
   "metadata": {},
   "outputs": [],
   "source": [
    "rmsle_2 = round(((np.log(taxies['trip_duration'] + 1) - np.log(taxies['prediction_2'] + 1)) ** 2).mean() ** (1 / 2), 3)"
   ]
  },
  {
   "cell_type": "code",
   "execution_count": 47,
   "id": "e1c59b39-6557-4302-bb89-6d74a371ab6b",
   "metadata": {},
   "outputs": [
    {
     "name": "stdout",
     "output_type": "stream",
     "text": [
      "RMSLE для первой модели: 0.554, RMSLE для второй модели: 1.556.\n"
     ]
    }
   ],
   "source": [
    "print(f\"RMSLE для первой модели: {rmsle_1}, RMSLE для второй модели: {rmsle_2}.\")"
   ]
  },
  {
   "cell_type": "markdown",
   "id": "e2f73527-6e95-4d69-bac5-919d5c8a970a",
   "metadata": {},
   "source": [
    "Посчитайте, для какого количества объектов первая модель сделала перепредсказания и недопредсказания."
   ]
  },
  {
   "cell_type": "code",
   "execution_count": 38,
   "id": "5bf89866-5c3b-4f3d-bf66-22418e180122",
   "metadata": {},
   "outputs": [],
   "source": [
    "over_predicted_1 = ((taxies['prediction_1'] - taxies['trip_duration']) > 0).sum()"
   ]
  },
  {
   "cell_type": "code",
   "execution_count": 39,
   "id": "76a0afee-cc82-4ab3-90f3-315067f6a19c",
   "metadata": {},
   "outputs": [],
   "source": [
    "under_predicted_1 = ((taxies['prediction_1'] - taxies['trip_duration']) < 0).sum()"
   ]
  },
  {
   "cell_type": "code",
   "execution_count": 40,
   "id": "e6e42ce6-1950-4ced-996e-129a7da3a423",
   "metadata": {},
   "outputs": [
    {
     "name": "stdout",
     "output_type": "stream",
     "text": [
      "1456721 1923\n"
     ]
    }
   ],
   "source": [
    "print(over_predicted_1, under_predicted_1)"
   ]
  },
  {
   "cell_type": "markdown",
   "id": "fcb5e4c8-844e-4796-b74a-d9fa05a1b006",
   "metadata": {},
   "source": [
    "Посчитайте, для какого количества объектов вторая модель сделала перепредсказания и недопредсказания."
   ]
  },
  {
   "cell_type": "code",
   "execution_count": 42,
   "id": "eb828033-4fc1-4b97-bc38-b06d6b5bda1c",
   "metadata": {},
   "outputs": [],
   "source": [
    "over_predicted_2 = ((taxies['prediction_2'] - taxies['trip_duration']) > 0).sum()"
   ]
  },
  {
   "cell_type": "code",
   "execution_count": 43,
   "id": "564f6433-8081-4187-b78c-6776d48044f7",
   "metadata": {},
   "outputs": [],
   "source": [
    "under_predicted_2 = ((taxies['prediction_2'] - taxies['trip_duration']) < 0).sum()"
   ]
  },
  {
   "cell_type": "code",
   "execution_count": 44,
   "id": "af025acd-1a53-42fb-b8d6-b97dfe83dd79",
   "metadata": {},
   "outputs": [
    {
     "name": "stdout",
     "output_type": "stream",
     "text": [
      "811778 646866\n"
     ]
    }
   ],
   "source": [
    "print(over_predicted_2, under_predicted_2)"
   ]
  },
  {
   "cell_type": "markdown",
   "id": "230b1f39-db27-4d28-a63a-c18501011faa",
   "metadata": {},
   "source": [
    "Таким образом, **RMSLE** скорее выберет модель, которая перепредсказывает таргет, чем недопредсказывает. Поэтому для оператора такси, который хочет оптимизировать поездки таксистов и более аккуратно мэтчить их с клиентами, использовать **RMSLE** – хорошая идея."
   ]
  },
  {
   "cell_type": "code",
   "execution_count": null,
   "id": "fe71bd96-fe3a-4939-9fc0-a9a4f49a9a28",
   "metadata": {},
   "outputs": [],
   "source": []
  }
 ],
 "metadata": {
  "kernelspec": {
   "display_name": "Python 3 (ipykernel)",
   "language": "python",
   "name": "python3"
  },
  "language_info": {
   "codemirror_mode": {
    "name": "ipython",
    "version": 3
   },
   "file_extension": ".py",
   "mimetype": "text/x-python",
   "name": "python",
   "nbconvert_exporter": "python",
   "pygments_lexer": "ipython3",
   "version": "3.11.3"
  }
 },
 "nbformat": 4,
 "nbformat_minor": 5
}
