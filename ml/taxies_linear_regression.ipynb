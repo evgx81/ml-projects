{
 "cells": [
  {
   "cell_type": "code",
   "execution_count": 1,
   "id": "826aa466-c712-4199-a839-9dd826239d51",
   "metadata": {},
   "outputs": [],
   "source": [
    "import pandas as pd"
   ]
  },
  {
   "cell_type": "code",
   "execution_count": 2,
   "id": "d7201654-581e-4dd3-a704-de1e0cbc7dc7",
   "metadata": {},
   "outputs": [],
   "source": [
    "import numpy as np"
   ]
  },
  {
   "cell_type": "code",
   "execution_count": 13,
   "id": "2e4c39be-d8d8-40e2-8e53-482e55fc5cb8",
   "metadata": {},
   "outputs": [],
   "source": [
    "taxies = pd.read_csv(\"taxi_prepared.csv\", index_col=0)"
   ]
  },
  {
   "cell_type": "code",
   "execution_count": 15,
   "id": "d8feaf10-3ebc-4b3c-9b84-2a8e977cd16b",
   "metadata": {},
   "outputs": [
    {
     "data": {
      "text/html": [
       "<div>\n",
       "<style scoped>\n",
       "    .dataframe tbody tr th:only-of-type {\n",
       "        vertical-align: middle;\n",
       "    }\n",
       "\n",
       "    .dataframe tbody tr th {\n",
       "        vertical-align: top;\n",
       "    }\n",
       "\n",
       "    .dataframe thead th {\n",
       "        text-align: right;\n",
       "    }\n",
       "</style>\n",
       "<table border=\"1\" class=\"dataframe\">\n",
       "  <thead>\n",
       "    <tr style=\"text-align: right;\">\n",
       "      <th></th>\n",
       "      <th>vendor_id</th>\n",
       "      <th>pickup_datetime</th>\n",
       "      <th>store_and_fwd_flag</th>\n",
       "      <th>trip_duration</th>\n",
       "      <th>distance_km</th>\n",
       "      <th>category_encoded</th>\n",
       "    </tr>\n",
       "    <tr>\n",
       "      <th>id</th>\n",
       "      <th></th>\n",
       "      <th></th>\n",
       "      <th></th>\n",
       "      <th></th>\n",
       "      <th></th>\n",
       "      <th></th>\n",
       "    </tr>\n",
       "  </thead>\n",
       "  <tbody>\n",
       "    <tr>\n",
       "      <th>id2875421</th>\n",
       "      <td>1</td>\n",
       "      <td>2016-03-14 17:24:55</td>\n",
       "      <td>0</td>\n",
       "      <td>455.0</td>\n",
       "      <td>1.498521</td>\n",
       "      <td>930.399753</td>\n",
       "    </tr>\n",
       "    <tr>\n",
       "      <th>id2377394</th>\n",
       "      <td>0</td>\n",
       "      <td>2016-06-12 00:43:35</td>\n",
       "      <td>0</td>\n",
       "      <td>663.0</td>\n",
       "      <td>1.805507</td>\n",
       "      <td>930.399753</td>\n",
       "    </tr>\n",
       "    <tr>\n",
       "      <th>id3858529</th>\n",
       "      <td>1</td>\n",
       "      <td>2016-01-19 11:35:24</td>\n",
       "      <td>0</td>\n",
       "      <td>2124.0</td>\n",
       "      <td>6.385098</td>\n",
       "      <td>930.399753</td>\n",
       "    </tr>\n",
       "    <tr>\n",
       "      <th>id3504673</th>\n",
       "      <td>1</td>\n",
       "      <td>2016-04-06 19:32:31</td>\n",
       "      <td>0</td>\n",
       "      <td>429.0</td>\n",
       "      <td>1.485498</td>\n",
       "      <td>930.399753</td>\n",
       "    </tr>\n",
       "    <tr>\n",
       "      <th>id2181028</th>\n",
       "      <td>1</td>\n",
       "      <td>2016-03-26 13:30:55</td>\n",
       "      <td>0</td>\n",
       "      <td>435.0</td>\n",
       "      <td>1.188588</td>\n",
       "      <td>930.399753</td>\n",
       "    </tr>\n",
       "  </tbody>\n",
       "</table>\n",
       "</div>"
      ],
      "text/plain": [
       "           vendor_id      pickup_datetime  store_and_fwd_flag  trip_duration  \\\n",
       "id                                                                             \n",
       "id2875421          1  2016-03-14 17:24:55                   0          455.0   \n",
       "id2377394          0  2016-06-12 00:43:35                   0          663.0   \n",
       "id3858529          1  2016-01-19 11:35:24                   0         2124.0   \n",
       "id3504673          1  2016-04-06 19:32:31                   0          429.0   \n",
       "id2181028          1  2016-03-26 13:30:55                   0          435.0   \n",
       "\n",
       "           distance_km  category_encoded  \n",
       "id                                        \n",
       "id2875421     1.498521        930.399753  \n",
       "id2377394     1.805507        930.399753  \n",
       "id3858529     6.385098        930.399753  \n",
       "id3504673     1.485498        930.399753  \n",
       "id2181028     1.188588        930.399753  "
      ]
     },
     "execution_count": 15,
     "metadata": {},
     "output_type": "execute_result"
    }
   ],
   "source": [
    "taxies.head()"
   ]
  },
  {
   "attachments": {},
   "cell_type": "markdown",
   "id": "4b263ab2-b246-45e7-afc3-ee36939ce9b5",
   "metadata": {},
   "source": [
    "Попробуем построить модель Линейной Регрессии."
   ]
  },
  {
   "cell_type": "markdown",
   "id": "701941c6-f175-4ebd-bae5-04e1eea79230",
   "metadata": {},
   "source": [
    "В качестве Выборки используйте таргетную колонку (*trip_duration*) и все признаки, кроме времени начала заказа (*pikcup_datetime*)."
   ]
  },
  {
   "cell_type": "markdown",
   "id": "a1ce277b-cba1-4829-8aa4-3b38f36311f5",
   "metadata": {},
   "source": [
    "Для начала воспользуемся \"коробочным решением\". Создадим переменную model, положите в нее класс **LinearRegression** из модуля **linear_model** библиотеки **sklearn**."
   ]
  },
  {
   "cell_type": "markdown",
   "id": "de5233ac-1a2b-456d-91a2-f77ae9096ea6",
   "metadata": {},
   "source": [
    "Далее воспользуйтесь методом **fit**."
   ]
  },
  {
   "cell_type": "markdown",
   "id": "274af245-dbf5-4d1c-ac93-e10e79dbe08d",
   "metadata": {},
   "source": [
    "Массив **X**, состоящий из признаков объектов."
   ]
  },
  {
   "cell_type": "code",
   "execution_count": 66,
   "id": "86a374d2-75a1-491f-8a44-ae7fc706a424",
   "metadata": {},
   "outputs": [],
   "source": [
    "X = taxies.drop(['pickup_datetime', 'trip_duration'], axis=1)"
   ]
  },
  {
   "cell_type": "code",
   "execution_count": 67,
   "id": "5adc9309-54a7-49a5-90a8-34b0c542283b",
   "metadata": {},
   "outputs": [
    {
     "data": {
      "text/html": [
       "<div>\n",
       "<style scoped>\n",
       "    .dataframe tbody tr th:only-of-type {\n",
       "        vertical-align: middle;\n",
       "    }\n",
       "\n",
       "    .dataframe tbody tr th {\n",
       "        vertical-align: top;\n",
       "    }\n",
       "\n",
       "    .dataframe thead th {\n",
       "        text-align: right;\n",
       "    }\n",
       "</style>\n",
       "<table border=\"1\" class=\"dataframe\">\n",
       "  <thead>\n",
       "    <tr style=\"text-align: right;\">\n",
       "      <th></th>\n",
       "      <th>vendor_id</th>\n",
       "      <th>store_and_fwd_flag</th>\n",
       "      <th>distance_km</th>\n",
       "      <th>category_encoded</th>\n",
       "    </tr>\n",
       "    <tr>\n",
       "      <th>id</th>\n",
       "      <th></th>\n",
       "      <th></th>\n",
       "      <th></th>\n",
       "      <th></th>\n",
       "    </tr>\n",
       "  </thead>\n",
       "  <tbody>\n",
       "    <tr>\n",
       "      <th>id2875421</th>\n",
       "      <td>1</td>\n",
       "      <td>0</td>\n",
       "      <td>1.498521</td>\n",
       "      <td>930.399753</td>\n",
       "    </tr>\n",
       "    <tr>\n",
       "      <th>id2377394</th>\n",
       "      <td>0</td>\n",
       "      <td>0</td>\n",
       "      <td>1.805507</td>\n",
       "      <td>930.399753</td>\n",
       "    </tr>\n",
       "    <tr>\n",
       "      <th>id3858529</th>\n",
       "      <td>1</td>\n",
       "      <td>0</td>\n",
       "      <td>6.385098</td>\n",
       "      <td>930.399753</td>\n",
       "    </tr>\n",
       "    <tr>\n",
       "      <th>id3504673</th>\n",
       "      <td>1</td>\n",
       "      <td>0</td>\n",
       "      <td>1.485498</td>\n",
       "      <td>930.399753</td>\n",
       "    </tr>\n",
       "    <tr>\n",
       "      <th>id2181028</th>\n",
       "      <td>1</td>\n",
       "      <td>0</td>\n",
       "      <td>1.188588</td>\n",
       "      <td>930.399753</td>\n",
       "    </tr>\n",
       "    <tr>\n",
       "      <th>...</th>\n",
       "      <td>...</td>\n",
       "      <td>...</td>\n",
       "      <td>...</td>\n",
       "      <td>...</td>\n",
       "    </tr>\n",
       "    <tr>\n",
       "      <th>id2376096</th>\n",
       "      <td>1</td>\n",
       "      <td>0</td>\n",
       "      <td>1.225080</td>\n",
       "      <td>1053.529749</td>\n",
       "    </tr>\n",
       "    <tr>\n",
       "      <th>id1049543</th>\n",
       "      <td>0</td>\n",
       "      <td>0</td>\n",
       "      <td>6.049836</td>\n",
       "      <td>930.399753</td>\n",
       "    </tr>\n",
       "    <tr>\n",
       "      <th>id2304944</th>\n",
       "      <td>1</td>\n",
       "      <td>0</td>\n",
       "      <td>7.824606</td>\n",
       "      <td>930.399753</td>\n",
       "    </tr>\n",
       "    <tr>\n",
       "      <th>id2714485</th>\n",
       "      <td>0</td>\n",
       "      <td>0</td>\n",
       "      <td>1.092564</td>\n",
       "      <td>930.399753</td>\n",
       "    </tr>\n",
       "    <tr>\n",
       "      <th>id1209952</th>\n",
       "      <td>0</td>\n",
       "      <td>0</td>\n",
       "      <td>1.134042</td>\n",
       "      <td>930.399753</td>\n",
       "    </tr>\n",
       "  </tbody>\n",
       "</table>\n",
       "<p>1458644 rows × 4 columns</p>\n",
       "</div>"
      ],
      "text/plain": [
       "           vendor_id  store_and_fwd_flag  distance_km  category_encoded\n",
       "id                                                                     \n",
       "id2875421          1                   0     1.498521        930.399753\n",
       "id2377394          0                   0     1.805507        930.399753\n",
       "id3858529          1                   0     6.385098        930.399753\n",
       "id3504673          1                   0     1.485498        930.399753\n",
       "id2181028          1                   0     1.188588        930.399753\n",
       "...              ...                 ...          ...               ...\n",
       "id2376096          1                   0     1.225080       1053.529749\n",
       "id1049543          0                   0     6.049836        930.399753\n",
       "id2304944          1                   0     7.824606        930.399753\n",
       "id2714485          0                   0     1.092564        930.399753\n",
       "id1209952          0                   0     1.134042        930.399753\n",
       "\n",
       "[1458644 rows x 4 columns]"
      ]
     },
     "execution_count": 67,
     "metadata": {},
     "output_type": "execute_result"
    }
   ],
   "source": [
    "X"
   ]
  },
  {
   "cell_type": "markdown",
   "id": "f29f59f7-2044-4b2a-b6a6-b6a1f2553c66",
   "metadata": {},
   "source": [
    "Mассив **Y** с таргетами."
   ]
  },
  {
   "cell_type": "code",
   "execution_count": 68,
   "id": "8aa3ef07-c0f3-4c73-95f4-e553fb9f84a6",
   "metadata": {},
   "outputs": [],
   "source": [
    "Y = taxies['trip_duration']"
   ]
  },
  {
   "cell_type": "code",
   "execution_count": 95,
   "id": "76061a9e-e687-41b3-8984-0c5e0d2bcb48",
   "metadata": {},
   "outputs": [
    {
     "data": {
      "text/plain": [
       "id\n",
       "id2875421     455.0\n",
       "id2377394     663.0\n",
       "id3858529    2124.0\n",
       "id3504673     429.0\n",
       "id2181028     435.0\n",
       "              ...  \n",
       "id2376096     778.0\n",
       "id1049543     655.0\n",
       "id2304944     764.0\n",
       "id2714485     373.0\n",
       "id1209952     198.0\n",
       "Name: trip_duration, Length: 1458644, dtype: float64"
      ]
     },
     "execution_count": 95,
     "metadata": {},
     "output_type": "execute_result"
    }
   ],
   "source": [
    "Y"
   ]
  },
  {
   "cell_type": "markdown",
   "id": "c8576ede-7730-4569-95a0-637fcd4af726",
   "metadata": {},
   "source": [
    "Посмотрим кoэффициенты модели"
   ]
  },
  {
   "cell_type": "code",
   "execution_count": 96,
   "id": "4c6f54a9-3043-46d8-9fca-103001409176",
   "metadata": {},
   "outputs": [
    {
     "data": {
      "text/html": [
       "<style>#sk-container-id-4 {color: black;}#sk-container-id-4 pre{padding: 0;}#sk-container-id-4 div.sk-toggleable {background-color: white;}#sk-container-id-4 label.sk-toggleable__label {cursor: pointer;display: block;width: 100%;margin-bottom: 0;padding: 0.3em;box-sizing: border-box;text-align: center;}#sk-container-id-4 label.sk-toggleable__label-arrow:before {content: \"▸\";float: left;margin-right: 0.25em;color: #696969;}#sk-container-id-4 label.sk-toggleable__label-arrow:hover:before {color: black;}#sk-container-id-4 div.sk-estimator:hover label.sk-toggleable__label-arrow:before {color: black;}#sk-container-id-4 div.sk-toggleable__content {max-height: 0;max-width: 0;overflow: hidden;text-align: left;background-color: #f0f8ff;}#sk-container-id-4 div.sk-toggleable__content pre {margin: 0.2em;color: black;border-radius: 0.25em;background-color: #f0f8ff;}#sk-container-id-4 input.sk-toggleable__control:checked~div.sk-toggleable__content {max-height: 200px;max-width: 100%;overflow: auto;}#sk-container-id-4 input.sk-toggleable__control:checked~label.sk-toggleable__label-arrow:before {content: \"▾\";}#sk-container-id-4 div.sk-estimator input.sk-toggleable__control:checked~label.sk-toggleable__label {background-color: #d4ebff;}#sk-container-id-4 div.sk-label input.sk-toggleable__control:checked~label.sk-toggleable__label {background-color: #d4ebff;}#sk-container-id-4 input.sk-hidden--visually {border: 0;clip: rect(1px 1px 1px 1px);clip: rect(1px, 1px, 1px, 1px);height: 1px;margin: -1px;overflow: hidden;padding: 0;position: absolute;width: 1px;}#sk-container-id-4 div.sk-estimator {font-family: monospace;background-color: #f0f8ff;border: 1px dotted black;border-radius: 0.25em;box-sizing: border-box;margin-bottom: 0.5em;}#sk-container-id-4 div.sk-estimator:hover {background-color: #d4ebff;}#sk-container-id-4 div.sk-parallel-item::after {content: \"\";width: 100%;border-bottom: 1px solid gray;flex-grow: 1;}#sk-container-id-4 div.sk-label:hover label.sk-toggleable__label {background-color: #d4ebff;}#sk-container-id-4 div.sk-serial::before {content: \"\";position: absolute;border-left: 1px solid gray;box-sizing: border-box;top: 0;bottom: 0;left: 50%;z-index: 0;}#sk-container-id-4 div.sk-serial {display: flex;flex-direction: column;align-items: center;background-color: white;padding-right: 0.2em;padding-left: 0.2em;position: relative;}#sk-container-id-4 div.sk-item {position: relative;z-index: 1;}#sk-container-id-4 div.sk-parallel {display: flex;align-items: stretch;justify-content: center;background-color: white;position: relative;}#sk-container-id-4 div.sk-item::before, #sk-container-id-4 div.sk-parallel-item::before {content: \"\";position: absolute;border-left: 1px solid gray;box-sizing: border-box;top: 0;bottom: 0;left: 50%;z-index: -1;}#sk-container-id-4 div.sk-parallel-item {display: flex;flex-direction: column;z-index: 1;position: relative;background-color: white;}#sk-container-id-4 div.sk-parallel-item:first-child::after {align-self: flex-end;width: 50%;}#sk-container-id-4 div.sk-parallel-item:last-child::after {align-self: flex-start;width: 50%;}#sk-container-id-4 div.sk-parallel-item:only-child::after {width: 0;}#sk-container-id-4 div.sk-dashed-wrapped {border: 1px dashed gray;margin: 0 0.4em 0.5em 0.4em;box-sizing: border-box;padding-bottom: 0.4em;background-color: white;}#sk-container-id-4 div.sk-label label {font-family: monospace;font-weight: bold;display: inline-block;line-height: 1.2em;}#sk-container-id-4 div.sk-label-container {text-align: center;}#sk-container-id-4 div.sk-container {/* jupyter's `normalize.less` sets `[hidden] { display: none; }` but bootstrap.min.css set `[hidden] { display: none !important; }` so we also need the `!important` here to be able to override the default hidden behavior on the sphinx rendered scikit-learn.org. See: https://github.com/scikit-learn/scikit-learn/issues/21755 */display: inline-block !important;position: relative;}#sk-container-id-4 div.sk-text-repr-fallback {display: none;}</style><div id=\"sk-container-id-4\" class=\"sk-top-container\"><div class=\"sk-text-repr-fallback\"><pre>LinearRegression()</pre><b>In a Jupyter environment, please rerun this cell to show the HTML representation or trust the notebook. <br />On GitHub, the HTML representation is unable to render, please try loading this page with nbviewer.org.</b></div><div class=\"sk-container\" hidden><div class=\"sk-item\"><div class=\"sk-estimator sk-toggleable\"><input class=\"sk-toggleable__control sk-hidden--visually\" id=\"sk-estimator-id-4\" type=\"checkbox\" checked><label for=\"sk-estimator-id-4\" class=\"sk-toggleable__label sk-toggleable__label-arrow\">LinearRegression</label><div class=\"sk-toggleable__content\"><pre>LinearRegression()</pre></div></div></div></div></div>"
      ],
      "text/plain": [
       "LinearRegression()"
      ]
     },
     "execution_count": 96,
     "metadata": {},
     "output_type": "execute_result"
    }
   ],
   "source": [
    "from sklearn.linear_model import LinearRegression\n",
    "\n",
    "model = LinearRegression()\n",
    "\n",
    "model.fit(X, Y)"
   ]
  },
  {
   "cell_type": "code",
   "execution_count": 97,
   "id": "a9b6e816-73a9-4b03-9640-5370b4498d34",
   "metadata": {},
   "outputs": [
    {
     "data": {
      "text/plain": [
       "array([198.46622125,  56.61095594, 115.26449772,   0.29633374])"
      ]
     },
     "execution_count": 97,
     "metadata": {},
     "output_type": "execute_result"
    }
   ],
   "source": [
    "model.coef_"
   ]
  },
  {
   "cell_type": "markdown",
   "id": "e36f520e-c9b8-4b0f-bca9-74aa3ad52575",
   "metadata": {},
   "source": [
    "Посмотрим свободный вес модели."
   ]
  },
  {
   "cell_type": "code",
   "execution_count": 98,
   "id": "975cfbc9-b1b7-4936-ae95-b1ce84e79811",
   "metadata": {},
   "outputs": [
    {
     "data": {
      "text/plain": [
       "172.07109507020095"
      ]
     },
     "execution_count": 98,
     "metadata": {},
     "output_type": "execute_result"
    }
   ],
   "source": [
    "model.intercept_"
   ]
  },
  {
   "cell_type": "markdown",
   "id": "64097bc8-485d-499e-9220-21f0f525f2b2",
   "metadata": {},
   "source": [
    "Теперь реализуем функцию LinearRegressionByMatrix, которая будет принимать на вход 3 параметра:"
   ]
  },
  {
   "cell_type": "markdown",
   "id": "5ddc5b86-9e2e-4d9f-834c-db6151e8f889",
   "metadata": {},
   "source": [
    "Матрицу объект-признак **(X)**, вектор с ответами **(Y)**, булевый параметр **fit_intercept**, цель которого - добавить константный признак (состоящий из единичек), если True, и ничего не делать, если False."
   ]
  },
  {
   "cell_type": "markdown",
   "id": "6f56eb8e-a909-4ac1-86fa-2979525f0122",
   "metadata": {},
   "source": [
    "Функция должна вернуть одномерный np.array объект с оцененными **$\\beta_1, ..., \\beta_n, \\beta_0$**"
   ]
  },
  {
   "cell_type": "markdown",
   "id": "b3d2c6dd-d59b-46e2-89a9-60e942ab1cb7",
   "metadata": {},
   "source": [
    "Реализуем решение через аналитическое решение в матрицах:\n",
    "\n",
    "$$\n",
    "\\beta^* = (X^T \\cdot X)^{-1} \\cdot X^T \\cdot Y\n",
    "$$"
   ]
  },
  {
   "cell_type": "code",
   "execution_count": 143,
   "id": "a26473bd-73b1-4e9a-adcc-5f65aa297d55",
   "metadata": {},
   "outputs": [],
   "source": [
    "def LinearRegressionByMatrix(X: np.array, Y: np.array, fit_intercept: bool = True) -> np.array:\n",
    "    if fit_intercept == True:\n",
    "      X = np.column_stack((X, np.ones(X.shape[0])))\n",
    "    return np.linalg.inv(X.T @ X) @ X.T @ Y"
   ]
  },
  {
   "cell_type": "code",
   "execution_count": 147,
   "id": "ea1ec65f-edae-495d-9bf1-0fb5fd04c1ff",
   "metadata": {},
   "outputs": [],
   "source": [
    "betas = LinearRegressionByMatrix(X, Y, False) "
   ]
  },
  {
   "cell_type": "code",
   "execution_count": 148,
   "id": "d928149e-7a38-4e17-8896-2672c5598ff4",
   "metadata": {},
   "outputs": [
    {
     "data": {
      "text/plain": [
       "0    194.862223\n",
       "1     57.176574\n",
       "2    115.310518\n",
       "3      0.477083\n",
       "dtype: float64"
      ]
     },
     "execution_count": 148,
     "metadata": {},
     "output_type": "execute_result"
    }
   ],
   "source": [
    "betas"
   ]
  },
  {
   "cell_type": "markdown",
   "id": "bcd8b106-be7e-4cde-a4ed-47ae729e1286",
   "metadata": {},
   "source": [
    "Имея коэффициенты модели, можно восстановить предсказания для каждого объекта. Это можно сделать через операцию матричного произведения матрицы **X** и полученных коэффициентов.\n"
   ]
  },
  {
   "cell_type": "code",
   "execution_count": 150,
   "id": "87fa2d2a-c7b6-4cce-8d6a-6c075dd71679",
   "metadata": {},
   "outputs": [],
   "source": [
    "predictions = np.dot(X, betas)"
   ]
  },
  {
   "cell_type": "code",
   "execution_count": 151,
   "id": "b67fe3ca-96ca-4392-8642-c556747e7609",
   "metadata": {},
   "outputs": [
    {
     "data": {
      "text/plain": [
       "array([ 811.53575238,  652.07228872, 1375.00955879, ..., 1540.99988857,\n",
       "        569.86243031,  574.64528803])"
      ]
     },
     "execution_count": 151,
     "metadata": {},
     "output_type": "execute_result"
    }
   ],
   "source": [
    "predictions"
   ]
  },
  {
   "cell_type": "code",
   "execution_count": null,
   "id": "38830902-e74f-4d5a-a6b5-7d7916d318ae",
   "metadata": {},
   "outputs": [],
   "source": []
  }
 ],
 "metadata": {
  "kernelspec": {
   "display_name": "Python 3 (ipykernel)",
   "language": "python",
   "name": "python3"
  },
  "language_info": {
   "codemirror_mode": {
    "name": "ipython",
    "version": 3
   },
   "file_extension": ".py",
   "mimetype": "text/x-python",
   "name": "python",
   "nbconvert_exporter": "python",
   "pygments_lexer": "ipython3",
   "version": "3.11.3"
  }
 },
 "nbformat": 4,
 "nbformat_minor": 5
}
