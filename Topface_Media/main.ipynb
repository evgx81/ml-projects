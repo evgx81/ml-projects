{
 "cells": [
  {
   "cell_type": "markdown",
   "id": "807c4987-ddee-4ee6-82b9-365e267cb223",
   "metadata": {},
   "source": [
    "#### Вопросы"
   ]
  },
  {
   "cell_type": "markdown",
   "id": "b2efe244-a3d0-4e8c-b24b-9328669b00f7",
   "metadata": {},
   "source": [
    "Как хорошо Вы владеете Python? Оцените свой уровень по шкале от 0 до 10,\n",
    "где 0 - совсем не знаю, 10 - владею в совершенстве.  \n",
    "**Ответ**: 9 / 10, поскольку есть различные проекты на Python и знакома с множеством конструкций языка и библиотек."
   ]
  },
  {
   "cell_type": "markdown",
   "id": "c2b5a9fa-5f0a-4e5d-b4ef-fb5e05cc8a6b",
   "metadata": {},
   "source": [
    "Насколько хорошо Вы знакомы с Google Sheets? Оцените свой уровень по\n",
    "шкале от 0 до 10, где 0 - совсем не знаю, 10 - владею в совершенстве.  \n",
    "**Ответ**: 7 / 10, т.к использовала самые базовые функции в проектах."
   ]
  },
  {
   "cell_type": "markdown",
   "id": "127df4b9-1075-4d7f-b9ce-d5cb42064f55",
   "metadata": {},
   "source": [
    "#### Логические задачи"
   ]
  },
  {
   "cell_type": "markdown",
   "id": "abeed6ee-41de-4ddc-8fee-85ccecd8b27d",
   "metadata": {},
   "source": [
    "##### #1\n",
    "Рекламная кампания стартовала вчера с дневным бюджетом 40 $. Половина бюджета была израсходована к полудню, а 80% оставшегося бюджета было\n",
    "потрачено между полуднем и временем закрытия. Сколько долларов не было потрачено?"
   ]
  },
  {
   "cell_type": "code",
   "execution_count": 9,
   "id": "71681e18-42c8-4437-9776-26eb9e94f5fd",
   "metadata": {},
   "outputs": [
    {
     "name": "stdout",
     "output_type": "stream",
     "text": [
      "Осталось не потрачено: 4.0 $\n"
     ]
    }
   ],
   "source": [
    "print(f\"Осталось не потрачено: {40 - (0.5 * 40 + 0.8 * (0.5 * 40))} $\")"
   ]
  },
  {
   "cell_type": "markdown",
   "id": "989cd5a5-a1c4-4243-a509-881e1fb2da7c",
   "metadata": {},
   "source": [
    "##### #2\n",
    "5 идентичных рекламных кампаний работали 24 дня по 6 часов в день,\n",
    "потрачено было 120 долларов. Сколько дней они работали бы на 216 долларов,\n",
    "если бы 9 одинаковых кампаний работали бы по 8 часов в день?"
   ]
  },
  {
   "cell_type": "code",
   "execution_count": 8,
   "id": "22605d79-00bb-4377-8f4c-b75de265dfb5",
   "metadata": {},
   "outputs": [
    {
     "name": "stdout",
     "output_type": "stream",
     "text": [
      "Количество дней: 18.0\n"
     ]
    }
   ],
   "source": [
    "# Цена в час первого случая\n",
    "x = 120 / (5 * 6 * 24)\n",
    "print(f\"Количество дней: {216 / (x * 8 * 9)}\")"
   ]
  },
  {
   "cell_type": "markdown",
   "id": "f57911da-aaa5-4a3d-80f8-1dca0befc2bf",
   "metadata": {},
   "source": [
    "##### #3\n",
    "Дизайнеры создали 200 рекламных баннеров для двух рекламных кампаний. 80\r\n",
    "из них не использовались ни в кампании No1, ни в кампании No2, 60\r\n",
    "использовались только в кампании No1. И для каждого рекламного баннера,\r\n",
    "который использовался в обеих кампаниях, приходится 3 баннера, которые\r\n",
    "использовались только в кампании No2. Сколько баннеров было использовано в\r\n",
    "обеих рекламных кампаниях?"
   ]
  },
  {
   "cell_type": "markdown",
   "id": "472d7a26-652b-47bc-b574-b0092abe0d2e",
   "metadata": {},
   "source": [
    "Решение:  \n",
    "Сведем к системе уравнений:   \n",
    "x1 - Число рекламных баннеров, которые использовались No1.  \n",
    "x2 - Число рекламных баннеров, которые использовались No2.  \n",
    "x3 - Число рекламных баннеров, которые использовались No1 и No2.  \n",
    "\n",
    "x1 + x2 + x3 = 120\n",
    "x1 = 60\n",
    "3 * x3 = x2\n",
    "\n",
    "Решая систему получим: x1 = 60, x2 = 45, x3 = 15  \n",
    "Ответ: 15"
   ]
  },
  {
   "cell_type": "markdown",
   "id": "4be80f92-2c06-468e-8e04-f4122b8ab53c",
   "metadata": {},
   "source": [
    "##### #4\n",
    "Энн использует Instagram, но не Facebook, а Джон использует Youtube и\n",
    "Facebook. Кейт использует Youtube, но не Instagram, а Том использует Facebook,\n",
    "но не Youtube. Если каждый человек использует две из трех социальных сетей,\n",
    "у кого предпочтения совпадают?"
   ]
  },
  {
   "cell_type": "markdown",
   "id": "b48c6e28-091e-42f2-af46-13ff23525100",
   "metadata": {},
   "source": [
    "Ответ: У Джона и Кейт, они оба используют Youtube и Facebook."
   ]
  },
  {
   "cell_type": "markdown",
   "id": "f5994e93-67ca-401c-bd10-2d4964bee6d4",
   "metadata": {},
   "source": [
    "##### #5\n",
    "Средний итоговый балл стажера по 4 модулям составляет 78 баллов. Сколько\r\n",
    "баллов должен получить стажер за 5-й модуль, чтобы средний балл по всему\r\n",
    "заданию составил 80?"
   ]
  },
  {
   "cell_type": "markdown",
   "id": "b88d8809-a90f-46f1-bba6-5e939c2b5de5",
   "metadata": {},
   "source": [
    "Решение:  \n",
    "(x1 + x2 + x3 + x4) / 4 = 78  \n",
    "Отсюда получаем:  \n",
    "x1 + x2 + x3 + x4 = 312  \n",
    "  \n",
    "Тогда\n",
    "(x1 + x2 + x3 + x4 + x5) / 5 = 80  \n",
    "312 + x5 = 400  \n",
    "x5 = 88  \n",
    "Ответ: 88"
   ]
  },
  {
   "cell_type": "markdown",
   "id": "4acf95ff-522b-4e21-947c-36b4ed8c1960",
   "metadata": {},
   "source": [
    "##### #6\n",
    "Заказанные в приложении товары доставляются на автомобиле. Автомобиль\r\n",
    "проезжает 260 км со средней скоростью 80 км / ч. На обратном пути машина\r\n",
    "движется со средней скоростью 100 км / ч. Насколько быстрее был обратный\r\n",
    "путь? Ответ указать в минутах."
   ]
  },
  {
   "cell_type": "markdown",
   "id": "8accecc3-f41f-461f-b306-46c826d79fe8",
   "metadata": {},
   "source": [
    "Количество минут, чтобы доехать из пункта A в B: (260 / 80) * 60 = 195 мин \n",
    "Количество минут, чтобы доехать из пункта B в A: (260 / 100) * 60 = 156 мин\n",
    "Разница в минутах: 39  \n",
    "Ответ: 39"
   ]
  },
  {
   "cell_type": "markdown",
   "id": "5d94993e-a427-47fa-afbd-b557a7dd6ae3",
   "metadata": {},
   "source": [
    "#### Техническое задание"
   ]
  },
  {
   "cell_type": "code",
   "execution_count": 41,
   "id": "40a5ac42-6284-4026-813e-f8d5af2fa3cb",
   "metadata": {},
   "outputs": [],
   "source": [
    "import pandas as pd\n",
    "import numpy as np\n",
    "import matplotlib.pyplot as plt\n",
    "import seaborn as sns\n",
    "import warnings"
   ]
  },
  {
   "cell_type": "code",
   "execution_count": 42,
   "id": "113ff8ba-e515-45ab-ba1d-72f0095a3fcd",
   "metadata": {},
   "outputs": [],
   "source": [
    "warnings.filterwarnings('ignore')"
   ]
  },
  {
   "cell_type": "code",
   "execution_count": 43,
   "id": "80145eec-460d-428a-8087-1dcacc471fca",
   "metadata": {},
   "outputs": [],
   "source": [
    "df = pd.read_excel('data.xlsx')"
   ]
  },
  {
   "cell_type": "code",
   "execution_count": 119,
   "id": "9df21067-cf26-4c70-96ab-f8ac72b04342",
   "metadata": {},
   "outputs": [
    {
     "data": {
      "text/html": [
       "<div>\n",
       "<style scoped>\n",
       "    .dataframe tbody tr th:only-of-type {\n",
       "        vertical-align: middle;\n",
       "    }\n",
       "\n",
       "    .dataframe tbody tr th {\n",
       "        vertical-align: top;\n",
       "    }\n",
       "\n",
       "    .dataframe thead th {\n",
       "        text-align: right;\n",
       "    }\n",
       "</style>\n",
       "<table border=\"1\" class=\"dataframe\">\n",
       "  <thead>\n",
       "    <tr style=\"text-align: right;\">\n",
       "      <th></th>\n",
       "      <th>client_id</th>\n",
       "      <th>sum</th>\n",
       "      <th>status</th>\n",
       "      <th>sale</th>\n",
       "      <th>new/current</th>\n",
       "      <th>Unnamed: 5</th>\n",
       "      <th>document</th>\n",
       "      <th>receiving_date</th>\n",
       "      <th>receiving_hour</th>\n",
       "      <th>receiving_month</th>\n",
       "      <th>receiving_year</th>\n",
       "      <th>sales_bonus</th>\n",
       "    </tr>\n",
       "  </thead>\n",
       "  <tbody>\n",
       "    <tr>\n",
       "      <th>0</th>\n",
       "      <td>NaN</td>\n",
       "      <td>NaN</td>\n",
       "      <td>Май 2021</td>\n",
       "      <td>NaN</td>\n",
       "      <td>NaN</td>\n",
       "      <td>NaN</td>\n",
       "      <td>NaN</td>\n",
       "      <td>NaT</td>\n",
       "      <td>NaN</td>\n",
       "      <td>NaN</td>\n",
       "      <td>NaN</td>\n",
       "      <td>0.00</td>\n",
       "    </tr>\n",
       "    <tr>\n",
       "      <th>1</th>\n",
       "      <td>6.0</td>\n",
       "      <td>11693.7</td>\n",
       "      <td>ВНУТРЕННИЙ</td>\n",
       "      <td>-</td>\n",
       "      <td>-</td>\n",
       "      <td>NaN</td>\n",
       "      <td>-</td>\n",
       "      <td>NaT</td>\n",
       "      <td>NaN</td>\n",
       "      <td>NaN</td>\n",
       "      <td>NaN</td>\n",
       "      <td>0.00</td>\n",
       "    </tr>\n",
       "    <tr>\n",
       "      <th>2</th>\n",
       "      <td>14.0</td>\n",
       "      <td>5452.7</td>\n",
       "      <td>ОПЛАЧЕНО</td>\n",
       "      <td>Петрова</td>\n",
       "      <td>новая</td>\n",
       "      <td>NaN</td>\n",
       "      <td>оригинал</td>\n",
       "      <td>2021-07-26</td>\n",
       "      <td>0.0</td>\n",
       "      <td>7.0</td>\n",
       "      <td>2021.0</td>\n",
       "      <td>381.69</td>\n",
       "    </tr>\n",
       "    <tr>\n",
       "      <th>3</th>\n",
       "      <td>15.0</td>\n",
       "      <td>13991.7</td>\n",
       "      <td>ОПЛАЧЕНО</td>\n",
       "      <td>Иванов</td>\n",
       "      <td>текущая</td>\n",
       "      <td>NaN</td>\n",
       "      <td>оригинал</td>\n",
       "      <td>2021-06-08</td>\n",
       "      <td>0.0</td>\n",
       "      <td>6.0</td>\n",
       "      <td>2021.0</td>\n",
       "      <td>699.59</td>\n",
       "    </tr>\n",
       "    <tr>\n",
       "      <th>4</th>\n",
       "      <td>16.0</td>\n",
       "      <td>719.7</td>\n",
       "      <td>ОПЛАЧЕНО</td>\n",
       "      <td>Иванов</td>\n",
       "      <td>текущая</td>\n",
       "      <td>NaN</td>\n",
       "      <td>оригинал</td>\n",
       "      <td>2021-06-08</td>\n",
       "      <td>0.0</td>\n",
       "      <td>6.0</td>\n",
       "      <td>2021.0</td>\n",
       "      <td>21.59</td>\n",
       "    </tr>\n",
       "    <tr>\n",
       "      <th>5</th>\n",
       "      <td>18.0</td>\n",
       "      <td>4253.7</td>\n",
       "      <td>ОПЛАЧЕНО</td>\n",
       "      <td>Иванов</td>\n",
       "      <td>текущая</td>\n",
       "      <td>NaN</td>\n",
       "      <td>оригинал</td>\n",
       "      <td>2021-07-07</td>\n",
       "      <td>0.0</td>\n",
       "      <td>7.0</td>\n",
       "      <td>2021.0</td>\n",
       "      <td>127.61</td>\n",
       "    </tr>\n",
       "    <tr>\n",
       "      <th>6</th>\n",
       "      <td>20.0</td>\n",
       "      <td>5796.7</td>\n",
       "      <td>ОПЛАЧЕНО</td>\n",
       "      <td>Кузнецова</td>\n",
       "      <td>текущая</td>\n",
       "      <td>NaN</td>\n",
       "      <td>оригинал</td>\n",
       "      <td>2021-07-15</td>\n",
       "      <td>0.0</td>\n",
       "      <td>7.0</td>\n",
       "      <td>2021.0</td>\n",
       "      <td>173.90</td>\n",
       "    </tr>\n",
       "    <tr>\n",
       "      <th>7</th>\n",
       "      <td>21.0</td>\n",
       "      <td>3613.7</td>\n",
       "      <td>ОПЛАЧЕНО</td>\n",
       "      <td>Кузнецова</td>\n",
       "      <td>текущая</td>\n",
       "      <td>NaN</td>\n",
       "      <td>оригинал</td>\n",
       "      <td>2021-10-13</td>\n",
       "      <td>0.0</td>\n",
       "      <td>10.0</td>\n",
       "      <td>2021.0</td>\n",
       "      <td>108.41</td>\n",
       "    </tr>\n",
       "    <tr>\n",
       "      <th>8</th>\n",
       "      <td>23.0</td>\n",
       "      <td>8511.7</td>\n",
       "      <td>ОПЛАЧЕНО</td>\n",
       "      <td>Андреев</td>\n",
       "      <td>текущая</td>\n",
       "      <td>NaN</td>\n",
       "      <td>оригинал</td>\n",
       "      <td>2021-06-08</td>\n",
       "      <td>0.0</td>\n",
       "      <td>6.0</td>\n",
       "      <td>2021.0</td>\n",
       "      <td>255.35</td>\n",
       "    </tr>\n",
       "    <tr>\n",
       "      <th>9</th>\n",
       "      <td>24.0</td>\n",
       "      <td>16347.7</td>\n",
       "      <td>ОПЛАЧЕНО</td>\n",
       "      <td>Андреев</td>\n",
       "      <td>новая</td>\n",
       "      <td>NaN</td>\n",
       "      <td>оригинал</td>\n",
       "      <td>2021-06-23</td>\n",
       "      <td>0.0</td>\n",
       "      <td>6.0</td>\n",
       "      <td>2021.0</td>\n",
       "      <td>1144.34</td>\n",
       "    </tr>\n",
       "  </tbody>\n",
       "</table>\n",
       "</div>"
      ],
      "text/plain": [
       "   client_id      sum      status       sale new/current  Unnamed: 5  \\\n",
       "0        NaN      NaN    Май 2021        NaN         NaN         NaN   \n",
       "1        6.0  11693.7  ВНУТРЕННИЙ          -           -         NaN   \n",
       "2       14.0   5452.7    ОПЛАЧЕНО    Петрова       новая         NaN   \n",
       "3       15.0  13991.7    ОПЛАЧЕНО     Иванов     текущая         NaN   \n",
       "4       16.0    719.7    ОПЛАЧЕНО     Иванов     текущая         NaN   \n",
       "5       18.0   4253.7    ОПЛАЧЕНО     Иванов     текущая         NaN   \n",
       "6       20.0   5796.7    ОПЛАЧЕНО  Кузнецова     текущая         NaN   \n",
       "7       21.0   3613.7    ОПЛАЧЕНО  Кузнецова     текущая         NaN   \n",
       "8       23.0   8511.7    ОПЛАЧЕНО    Андреев     текущая         NaN   \n",
       "9       24.0  16347.7    ОПЛАЧЕНО    Андреев       новая         NaN   \n",
       "\n",
       "   document receiving_date  receiving_hour  receiving_month  receiving_year  \\\n",
       "0       NaN            NaT             NaN              NaN             NaN   \n",
       "1         -            NaT             NaN              NaN             NaN   \n",
       "2  оригинал     2021-07-26             0.0              7.0          2021.0   \n",
       "3  оригинал     2021-06-08             0.0              6.0          2021.0   \n",
       "4  оригинал     2021-06-08             0.0              6.0          2021.0   \n",
       "5  оригинал     2021-07-07             0.0              7.0          2021.0   \n",
       "6  оригинал     2021-07-15             0.0              7.0          2021.0   \n",
       "7  оригинал     2021-10-13             0.0             10.0          2021.0   \n",
       "8  оригинал     2021-06-08             0.0              6.0          2021.0   \n",
       "9  оригинал     2021-06-23             0.0              6.0          2021.0   \n",
       "\n",
       "   sales_bonus  \n",
       "0         0.00  \n",
       "1         0.00  \n",
       "2       381.69  \n",
       "3       699.59  \n",
       "4        21.59  \n",
       "5       127.61  \n",
       "6       173.90  \n",
       "7       108.41  \n",
       "8       255.35  \n",
       "9      1144.34  "
      ]
     },
     "execution_count": 119,
     "metadata": {},
     "output_type": "execute_result"
    }
   ],
   "source": [
    "df.head(10)"
   ]
  },
  {
   "cell_type": "code",
   "execution_count": 62,
   "id": "fa061d67-4e41-429c-99c1-83a9a0836a99",
   "metadata": {},
   "outputs": [
    {
     "name": "stdout",
     "output_type": "stream",
     "text": [
      "<class 'pandas.core.frame.DataFrame'>\n",
      "RangeIndex: 730 entries, 0 to 729\n",
      "Data columns (total 11 columns):\n",
      " #   Column           Non-Null Count  Dtype         \n",
      "---  ------           --------------  -----         \n",
      " 0   client_id        724 non-null    float64       \n",
      " 1   sum              724 non-null    float64       \n",
      " 2   status           730 non-null    object        \n",
      " 3   sale             724 non-null    object        \n",
      " 4   new/current      724 non-null    object        \n",
      " 5   Unnamed: 5       0 non-null      float64       \n",
      " 6   document         709 non-null    object        \n",
      " 7   receiving_date   606 non-null    datetime64[ns]\n",
      " 8   receiving_hour   606 non-null    float64       \n",
      " 9   receiving_month  606 non-null    float64       \n",
      " 10  receiving_year   606 non-null    float64       \n",
      "dtypes: datetime64[ns](1), float64(6), object(4)\n",
      "memory usage: 62.9+ KB\n"
     ]
    }
   ],
   "source": [
    "df.info()"
   ]
  },
  {
   "cell_type": "code",
   "execution_count": 63,
   "id": "f62b6a91-831c-4249-97ec-27b5f3446605",
   "metadata": {},
   "outputs": [
    {
     "data": {
      "text/plain": [
       "client_id            6\n",
       "sum                  6\n",
       "status               0\n",
       "sale                 6\n",
       "new/current          6\n",
       "Unnamed: 5         730\n",
       "document            21\n",
       "receiving_date     124\n",
       "receiving_hour     124\n",
       "receiving_month    124\n",
       "receiving_year     124\n",
       "dtype: int64"
      ]
     },
     "execution_count": 63,
     "metadata": {},
     "output_type": "execute_result"
    }
   ],
   "source": [
    "df.isna().sum()"
   ]
  },
  {
   "cell_type": "code",
   "execution_count": 64,
   "id": "b2ef9939-0305-486b-a481-b858cec27a95",
   "metadata": {},
   "outputs": [],
   "source": [
    "### Приведем дату к нормальному формату\n",
    "df['receiving_date'] = pd.to_datetime(df['receiving_date'], errors='coerce')\n",
    "df['receiving_month'] = df['receiving_date'].dt.month\n",
    "df['receiving_year'] = df['receiving_date'].dt.year"
   ]
  },
  {
   "cell_type": "code",
   "execution_count": 65,
   "id": "9e2ccc1e-83f2-4154-9bfb-a46068fa9cbc",
   "metadata": {},
   "outputs": [
    {
     "data": {
      "text/html": [
       "<div>\n",
       "<style scoped>\n",
       "    .dataframe tbody tr th:only-of-type {\n",
       "        vertical-align: middle;\n",
       "    }\n",
       "\n",
       "    .dataframe tbody tr th {\n",
       "        vertical-align: top;\n",
       "    }\n",
       "\n",
       "    .dataframe thead th {\n",
       "        text-align: right;\n",
       "    }\n",
       "</style>\n",
       "<table border=\"1\" class=\"dataframe\">\n",
       "  <thead>\n",
       "    <tr style=\"text-align: right;\">\n",
       "      <th></th>\n",
       "      <th>client_id</th>\n",
       "      <th>sum</th>\n",
       "      <th>status</th>\n",
       "      <th>sale</th>\n",
       "      <th>new/current</th>\n",
       "      <th>Unnamed: 5</th>\n",
       "      <th>document</th>\n",
       "      <th>receiving_date</th>\n",
       "      <th>receiving_hour</th>\n",
       "      <th>receiving_month</th>\n",
       "      <th>receiving_year</th>\n",
       "    </tr>\n",
       "  </thead>\n",
       "  <tbody>\n",
       "    <tr>\n",
       "      <th>0</th>\n",
       "      <td>NaN</td>\n",
       "      <td>NaN</td>\n",
       "      <td>Май 2021</td>\n",
       "      <td>NaN</td>\n",
       "      <td>NaN</td>\n",
       "      <td>NaN</td>\n",
       "      <td>NaN</td>\n",
       "      <td>NaT</td>\n",
       "      <td>NaN</td>\n",
       "      <td>NaN</td>\n",
       "      <td>NaN</td>\n",
       "    </tr>\n",
       "    <tr>\n",
       "      <th>1</th>\n",
       "      <td>6.0</td>\n",
       "      <td>11693.7</td>\n",
       "      <td>ВНУТРЕННИЙ</td>\n",
       "      <td>-</td>\n",
       "      <td>-</td>\n",
       "      <td>NaN</td>\n",
       "      <td>-</td>\n",
       "      <td>NaT</td>\n",
       "      <td>NaN</td>\n",
       "      <td>NaN</td>\n",
       "      <td>NaN</td>\n",
       "    </tr>\n",
       "    <tr>\n",
       "      <th>2</th>\n",
       "      <td>14.0</td>\n",
       "      <td>5452.7</td>\n",
       "      <td>ОПЛАЧЕНО</td>\n",
       "      <td>Петрова</td>\n",
       "      <td>новая</td>\n",
       "      <td>NaN</td>\n",
       "      <td>оригинал</td>\n",
       "      <td>2021-07-26</td>\n",
       "      <td>0.0</td>\n",
       "      <td>7.0</td>\n",
       "      <td>2021.0</td>\n",
       "    </tr>\n",
       "    <tr>\n",
       "      <th>3</th>\n",
       "      <td>15.0</td>\n",
       "      <td>13991.7</td>\n",
       "      <td>ОПЛАЧЕНО</td>\n",
       "      <td>Иванов</td>\n",
       "      <td>текущая</td>\n",
       "      <td>NaN</td>\n",
       "      <td>оригинал</td>\n",
       "      <td>2021-06-08</td>\n",
       "      <td>0.0</td>\n",
       "      <td>6.0</td>\n",
       "      <td>2021.0</td>\n",
       "    </tr>\n",
       "    <tr>\n",
       "      <th>4</th>\n",
       "      <td>16.0</td>\n",
       "      <td>719.7</td>\n",
       "      <td>ОПЛАЧЕНО</td>\n",
       "      <td>Иванов</td>\n",
       "      <td>текущая</td>\n",
       "      <td>NaN</td>\n",
       "      <td>оригинал</td>\n",
       "      <td>2021-06-08</td>\n",
       "      <td>0.0</td>\n",
       "      <td>6.0</td>\n",
       "      <td>2021.0</td>\n",
       "    </tr>\n",
       "    <tr>\n",
       "      <th>...</th>\n",
       "      <td>...</td>\n",
       "      <td>...</td>\n",
       "      <td>...</td>\n",
       "      <td>...</td>\n",
       "      <td>...</td>\n",
       "      <td>...</td>\n",
       "      <td>...</td>\n",
       "      <td>...</td>\n",
       "      <td>...</td>\n",
       "      <td>...</td>\n",
       "      <td>...</td>\n",
       "    </tr>\n",
       "    <tr>\n",
       "      <th>725</th>\n",
       "      <td>285.0</td>\n",
       "      <td>4328.7</td>\n",
       "      <td>ОПЛАЧЕНО</td>\n",
       "      <td>Васильев</td>\n",
       "      <td>текущая</td>\n",
       "      <td>NaN</td>\n",
       "      <td>оригинал</td>\n",
       "      <td>2021-11-15</td>\n",
       "      <td>0.0</td>\n",
       "      <td>11.0</td>\n",
       "      <td>2021.0</td>\n",
       "    </tr>\n",
       "    <tr>\n",
       "      <th>726</th>\n",
       "      <td>360.0</td>\n",
       "      <td>3096.2</td>\n",
       "      <td>ОПЛАЧЕНО</td>\n",
       "      <td>Васильев</td>\n",
       "      <td>новая</td>\n",
       "      <td>NaN</td>\n",
       "      <td>НЕТ</td>\n",
       "      <td>NaT</td>\n",
       "      <td>NaN</td>\n",
       "      <td>NaN</td>\n",
       "      <td>NaN</td>\n",
       "    </tr>\n",
       "    <tr>\n",
       "      <th>727</th>\n",
       "      <td>360.0</td>\n",
       "      <td>3096.2</td>\n",
       "      <td>ПРОСРОЧЕНО</td>\n",
       "      <td>Васильев</td>\n",
       "      <td>новая</td>\n",
       "      <td>NaN</td>\n",
       "      <td>НЕТ</td>\n",
       "      <td>NaT</td>\n",
       "      <td>NaN</td>\n",
       "      <td>NaN</td>\n",
       "      <td>NaN</td>\n",
       "    </tr>\n",
       "    <tr>\n",
       "      <th>728</th>\n",
       "      <td>373.0</td>\n",
       "      <td>4403.7</td>\n",
       "      <td>ОПЛАЧЕНО</td>\n",
       "      <td>Михайлов</td>\n",
       "      <td>новая</td>\n",
       "      <td>NaN</td>\n",
       "      <td>оригинал</td>\n",
       "      <td>2021-11-08</td>\n",
       "      <td>0.0</td>\n",
       "      <td>11.0</td>\n",
       "      <td>2021.0</td>\n",
       "    </tr>\n",
       "    <tr>\n",
       "      <th>729</th>\n",
       "      <td>286.0</td>\n",
       "      <td>3978.7</td>\n",
       "      <td>ОПЛАЧЕНО</td>\n",
       "      <td>Филимонова</td>\n",
       "      <td>текущая</td>\n",
       "      <td>NaN</td>\n",
       "      <td>оригинал</td>\n",
       "      <td>2021-11-15</td>\n",
       "      <td>0.0</td>\n",
       "      <td>11.0</td>\n",
       "      <td>2021.0</td>\n",
       "    </tr>\n",
       "  </tbody>\n",
       "</table>\n",
       "<p>730 rows × 11 columns</p>\n",
       "</div>"
      ],
      "text/plain": [
       "     client_id      sum      status        sale new/current  Unnamed: 5  \\\n",
       "0          NaN      NaN    Май 2021         NaN         NaN         NaN   \n",
       "1          6.0  11693.7  ВНУТРЕННИЙ           -           -         NaN   \n",
       "2         14.0   5452.7    ОПЛАЧЕНО     Петрова       новая         NaN   \n",
       "3         15.0  13991.7    ОПЛАЧЕНО      Иванов     текущая         NaN   \n",
       "4         16.0    719.7    ОПЛАЧЕНО      Иванов     текущая         NaN   \n",
       "..         ...      ...         ...         ...         ...         ...   \n",
       "725      285.0   4328.7    ОПЛАЧЕНО    Васильев     текущая         NaN   \n",
       "726      360.0   3096.2    ОПЛАЧЕНО    Васильев       новая         NaN   \n",
       "727      360.0   3096.2  ПРОСРОЧЕНО    Васильев       новая         NaN   \n",
       "728      373.0   4403.7    ОПЛАЧЕНО    Михайлов       новая         NaN   \n",
       "729      286.0   3978.7    ОПЛАЧЕНО  Филимонова     текущая         NaN   \n",
       "\n",
       "     document receiving_date  receiving_hour  receiving_month  receiving_year  \n",
       "0         NaN            NaT             NaN              NaN             NaN  \n",
       "1           -            NaT             NaN              NaN             NaN  \n",
       "2    оригинал     2021-07-26             0.0              7.0          2021.0  \n",
       "3    оригинал     2021-06-08             0.0              6.0          2021.0  \n",
       "4    оригинал     2021-06-08             0.0              6.0          2021.0  \n",
       "..        ...            ...             ...              ...             ...  \n",
       "725  оригинал     2021-11-15             0.0             11.0          2021.0  \n",
       "726       НЕТ            NaT             NaN              NaN             NaN  \n",
       "727       НЕТ            NaT             NaN              NaN             NaN  \n",
       "728  оригинал     2021-11-08             0.0             11.0          2021.0  \n",
       "729  оригинал     2021-11-15             0.0             11.0          2021.0  \n",
       "\n",
       "[730 rows x 11 columns]"
      ]
     },
     "execution_count": 65,
     "metadata": {},
     "output_type": "execute_result"
    }
   ],
   "source": [
    "df"
   ]
  },
  {
   "cell_type": "markdown",
   "id": "a9c70f1c-0703-4494-b406-b08f08bf208b",
   "metadata": {},
   "source": [
    "##### №1\n",
    "Вычислите общую выручку за июль 2021 по тем сделкам, приход денежных\r\n",
    "средств которых не просрочен."
   ]
  },
  {
   "cell_type": "code",
   "execution_count": 80,
   "id": "f5d476be-fe53-4486-8af7-2b1b3f0a9c05",
   "metadata": {},
   "outputs": [
    {
     "data": {
      "text/plain": [
       "757830.7399999996"
      ]
     },
     "execution_count": 80,
     "metadata": {},
     "output_type": "execute_result"
    }
   ],
   "source": [
    "df[(df['status'] != \"ПРОСРОЧЕНО\") & (df['receiving_month'] == 7) & (df['receiving_year'] == 2021)][\"sum\"].sum()"
   ]
  },
  {
   "cell_type": "markdown",
   "id": "8d807e6f-6818-4d7d-9f20-5036d843f173",
   "metadata": {},
   "source": [
    "##### №2\n",
    "Как изменялась выручка компании за рассматриваемый период?\n",
    "Проиллюстрируйте графиком."
   ]
  },
  {
   "cell_type": "code",
   "execution_count": 85,
   "id": "5d65617b-8119-4e29-86e7-3a9b52fb8992",
   "metadata": {},
   "outputs": [
    {
     "data": {
      "text/plain": [
       "<Axes: xlabel='receiving_date'>"
      ]
     },
     "execution_count": 85,
     "metadata": {},
     "output_type": "execute_result"
    },
    {
     "data": {
      "image/png": "[encoded data removed]",
      "text/plain": [
       "<Figure size 640x480 with 1 Axes>"
      ]
     },
     "metadata": {},
     "output_type": "display_data"
    }
   ],
   "source": [
    "df.groupby('receiving_date').agg({'sum':'sum'}).plot()"
   ]
  },
  {
   "cell_type": "code",
   "execution_count": 95,
   "id": "a9d5a201-0e0e-4a0a-854d-1a973b2c4382",
   "metadata": {},
   "outputs": [
    {
     "data": {
      "text/plain": [
       "<Axes: xlabel='receiving_month'>"
      ]
     },
     "execution_count": 95,
     "metadata": {},
     "output_type": "execute_result"
    },
    {
     "data": {
      "image/png": "[encoded data removed]",
      "text/plain": [
       "<Figure size 640x480 with 1 Axes>"
      ]
     },
     "metadata": {},
     "output_type": "display_data"
    }
   ],
   "source": [
    "df.groupby('receiving_month').agg({'sum':'sum'}).plot()"
   ]
  },
  {
   "cell_type": "markdown",
   "id": "1b40400f-b065-4ce0-98c9-598939c50812",
   "metadata": {},
   "source": [
    "##### #3\n",
    "Кто из менеджеров привлек для компании больше всего денежных средств в\r\n",
    "сентябре 2021?"
   ]
  },
  {
   "cell_type": "code",
   "execution_count": 100,
   "id": "d2020784-5f32-4ed3-b400-e64d0858947c",
   "metadata": {},
   "outputs": [],
   "source": [
    "sale_sum = df[(df[\"receiving_month\"] == 9) & (df[\"receiving_year\"] == 2021)].groupby('sale').agg({'sum':'sum'}).sort_values('sum', ascending=False)"
   ]
  },
  {
   "cell_type": "code",
   "execution_count": 101,
   "id": "0ad0dcab-b213-44c2-af08-6dd56584b6ce",
   "metadata": {},
   "outputs": [
    {
     "name": "stdout",
     "output_type": "stream",
     "text": [
      "Менеджер Петрова привлек(ла) больше всего денежных средств в сентябре 2021\n"
     ]
    }
   ],
   "source": [
    "print('Менеджер {} привлек(ла) больше всего денежных средств в сентябре 2021'.format(sale_sum.idxmax()[0]))"
   ]
  },
  {
   "cell_type": "markdown",
   "id": "9ddf9d66-0fd9-4571-b3de-8da4b615fbf5",
   "metadata": {},
   "source": [
    "##### 4\n",
    "Какой тип сделок (новая/текущая) был преобладающим в октябре 2021?"
   ]
  },
  {
   "cell_type": "code",
   "execution_count": 105,
   "id": "68f7ab7c-8f74-4a17-bab4-f9538d1f86cf",
   "metadata": {},
   "outputs": [],
   "source": [
    "deal_count = df[(df[\"receiving_month\"] == 10) & (df[\"receiving_year\"] == 2021)][\"new/current\"].value_counts()"
   ]
  },
  {
   "cell_type": "code",
   "execution_count": 108,
   "id": "8fd4b78c-6f6a-4f89-acb6-df497a90d733",
   "metadata": {},
   "outputs": [
    {
     "name": "stdout",
     "output_type": "stream",
     "text": [
      "В октябре 2021 преобладали сделки с типом 'текущая'\n"
     ]
    }
   ],
   "source": [
    "print(f\"В октябре 2021 преобладали сделки с типом '{deal_count.idxmax()}'\")"
   ]
  },
  {
   "cell_type": "markdown",
   "id": "f427b188-bd38-48a2-a67e-c00c87f8a911",
   "metadata": {},
   "source": [
    "##### 5\n",
    "Сколько оригиналов договора по майским сделкам было получено в июне 2021?"
   ]
  },
  {
   "cell_type": "code",
   "execution_count": 112,
   "id": "fe57a763-7094-4684-96c2-8a969cd61389",
   "metadata": {},
   "outputs": [
    {
     "name": "stdout",
     "output_type": "stream",
     "text": [
      "Число оригиналов договора по майским сделкам было получено в июне 2021 равно 76\n"
     ]
    }
   ],
   "source": [
    "res = df[(df[\"document\"] == \"оригинал\") & (df[\"receiving_month\"] == 6) & (df[\"receiving_year\"] == 2021)].shape[0]\n",
    "print(f\"Число оригиналов договора по майским сделкам было получено в июне 2021 равно {res}\")"
   ]
  },
  {
   "cell_type": "markdown",
   "id": "5ac4e153-c7ee-4ef4-937e-a7857993f878",
   "metadata": {},
   "source": [
    "За каждую заключенную сделку менеджер получает бонус, который рассчитывается\r\n",
    "следующим образом.\r\n",
    "1) За новые сделки менеджер получает 7 % от суммы, при условии, что статус\r\n",
    "оплаты «ОПЛАЧЕНО», а также имеется оригинал подписанного договора с\r\n",
    "клиентом (в рассматриваемом месяце).\r\n",
    "2) За текущие сделки менеджер получает 5 % от суммы, если она больше 10 тыс.,\r\n",
    "и 3 % от суммы, если меньше. При этом статус оплаты может быть любым,\r\n",
    "кроме «ПРОСРОЧЕНО», а также необходимо наличие оригинала подписанного\r\n",
    "договора с клиентом (в рассматриваемом месяце)."
   ]
  },
  {
   "cell_type": "code",
   "execution_count": 114,
   "id": "71af0934-274c-4425-9c0a-d910a2f8259f",
   "metadata": {},
   "outputs": [],
   "source": [
    "def get_bonus(row):\n",
    "    coef_max = 0.07\n",
    "    coef_middle = 0.05\n",
    "    coef_low = 0.03\n",
    "    if ((row['new/current'] == 'новая') and(row.status == 'ОПЛАЧЕНО') and (row.receiving_date != None)):\n",
    "        return round(row['sum'] * coef_max, 2)\n",
    "    \n",
    "    if(row['new/current']=='текущая'):\n",
    "        if(row.status != 'ПРОСРОЧЕНО'):\n",
    "            if(row['sum'] < 10000):\n",
    "                return round(row['sum'] * coef_low, 2)\n",
    "            else:\n",
    "                return round(row['sum'] * coef_middle, 2)\n",
    "    return 0"
   ]
  },
  {
   "cell_type": "code",
   "execution_count": 116,
   "id": "6e453d57-20f6-4c5f-9d01-c0b0d6be174b",
   "metadata": {},
   "outputs": [],
   "source": [
    "df['sales_bonus'] = df.apply(get_bonus, axis=1)"
   ]
  },
  {
   "cell_type": "code",
   "execution_count": 118,
   "id": "994dd4a1-0c2a-4e40-b8ca-e84a61ae0b1d",
   "metadata": {},
   "outputs": [
    {
     "data": {
      "text/html": [
       "<div>\n",
       "<style scoped>\n",
       "    .dataframe tbody tr th:only-of-type {\n",
       "        vertical-align: middle;\n",
       "    }\n",
       "\n",
       "    .dataframe tbody tr th {\n",
       "        vertical-align: top;\n",
       "    }\n",
       "\n",
       "    .dataframe thead th {\n",
       "        text-align: right;\n",
       "    }\n",
       "</style>\n",
       "<table border=\"1\" class=\"dataframe\">\n",
       "  <thead>\n",
       "    <tr style=\"text-align: right;\">\n",
       "      <th></th>\n",
       "      <th>client_id</th>\n",
       "      <th>sum</th>\n",
       "      <th>status</th>\n",
       "      <th>sale</th>\n",
       "      <th>new/current</th>\n",
       "      <th>Unnamed: 5</th>\n",
       "      <th>document</th>\n",
       "      <th>receiving_date</th>\n",
       "      <th>receiving_hour</th>\n",
       "      <th>receiving_month</th>\n",
       "      <th>receiving_year</th>\n",
       "      <th>sales_bonus</th>\n",
       "    </tr>\n",
       "  </thead>\n",
       "  <tbody>\n",
       "    <tr>\n",
       "      <th>0</th>\n",
       "      <td>NaN</td>\n",
       "      <td>NaN</td>\n",
       "      <td>Май 2021</td>\n",
       "      <td>NaN</td>\n",
       "      <td>NaN</td>\n",
       "      <td>NaN</td>\n",
       "      <td>NaN</td>\n",
       "      <td>NaT</td>\n",
       "      <td>NaN</td>\n",
       "      <td>NaN</td>\n",
       "      <td>NaN</td>\n",
       "      <td>0.00</td>\n",
       "    </tr>\n",
       "    <tr>\n",
       "      <th>1</th>\n",
       "      <td>6.0</td>\n",
       "      <td>11693.7</td>\n",
       "      <td>ВНУТРЕННИЙ</td>\n",
       "      <td>-</td>\n",
       "      <td>-</td>\n",
       "      <td>NaN</td>\n",
       "      <td>-</td>\n",
       "      <td>NaT</td>\n",
       "      <td>NaN</td>\n",
       "      <td>NaN</td>\n",
       "      <td>NaN</td>\n",
       "      <td>0.00</td>\n",
       "    </tr>\n",
       "    <tr>\n",
       "      <th>2</th>\n",
       "      <td>14.0</td>\n",
       "      <td>5452.7</td>\n",
       "      <td>ОПЛАЧЕНО</td>\n",
       "      <td>Петрова</td>\n",
       "      <td>новая</td>\n",
       "      <td>NaN</td>\n",
       "      <td>оригинал</td>\n",
       "      <td>2021-07-26</td>\n",
       "      <td>0.0</td>\n",
       "      <td>7.0</td>\n",
       "      <td>2021.0</td>\n",
       "      <td>381.69</td>\n",
       "    </tr>\n",
       "    <tr>\n",
       "      <th>3</th>\n",
       "      <td>15.0</td>\n",
       "      <td>13991.7</td>\n",
       "      <td>ОПЛАЧЕНО</td>\n",
       "      <td>Иванов</td>\n",
       "      <td>текущая</td>\n",
       "      <td>NaN</td>\n",
       "      <td>оригинал</td>\n",
       "      <td>2021-06-08</td>\n",
       "      <td>0.0</td>\n",
       "      <td>6.0</td>\n",
       "      <td>2021.0</td>\n",
       "      <td>699.59</td>\n",
       "    </tr>\n",
       "    <tr>\n",
       "      <th>4</th>\n",
       "      <td>16.0</td>\n",
       "      <td>719.7</td>\n",
       "      <td>ОПЛАЧЕНО</td>\n",
       "      <td>Иванов</td>\n",
       "      <td>текущая</td>\n",
       "      <td>NaN</td>\n",
       "      <td>оригинал</td>\n",
       "      <td>2021-06-08</td>\n",
       "      <td>0.0</td>\n",
       "      <td>6.0</td>\n",
       "      <td>2021.0</td>\n",
       "      <td>21.59</td>\n",
       "    </tr>\n",
       "    <tr>\n",
       "      <th>5</th>\n",
       "      <td>18.0</td>\n",
       "      <td>4253.7</td>\n",
       "      <td>ОПЛАЧЕНО</td>\n",
       "      <td>Иванов</td>\n",
       "      <td>текущая</td>\n",
       "      <td>NaN</td>\n",
       "      <td>оригинал</td>\n",
       "      <td>2021-07-07</td>\n",
       "      <td>0.0</td>\n",
       "      <td>7.0</td>\n",
       "      <td>2021.0</td>\n",
       "      <td>127.61</td>\n",
       "    </tr>\n",
       "    <tr>\n",
       "      <th>6</th>\n",
       "      <td>20.0</td>\n",
       "      <td>5796.7</td>\n",
       "      <td>ОПЛАЧЕНО</td>\n",
       "      <td>Кузнецова</td>\n",
       "      <td>текущая</td>\n",
       "      <td>NaN</td>\n",
       "      <td>оригинал</td>\n",
       "      <td>2021-07-15</td>\n",
       "      <td>0.0</td>\n",
       "      <td>7.0</td>\n",
       "      <td>2021.0</td>\n",
       "      <td>173.90</td>\n",
       "    </tr>\n",
       "    <tr>\n",
       "      <th>7</th>\n",
       "      <td>21.0</td>\n",
       "      <td>3613.7</td>\n",
       "      <td>ОПЛАЧЕНО</td>\n",
       "      <td>Кузнецова</td>\n",
       "      <td>текущая</td>\n",
       "      <td>NaN</td>\n",
       "      <td>оригинал</td>\n",
       "      <td>2021-10-13</td>\n",
       "      <td>0.0</td>\n",
       "      <td>10.0</td>\n",
       "      <td>2021.0</td>\n",
       "      <td>108.41</td>\n",
       "    </tr>\n",
       "    <tr>\n",
       "      <th>8</th>\n",
       "      <td>23.0</td>\n",
       "      <td>8511.7</td>\n",
       "      <td>ОПЛАЧЕНО</td>\n",
       "      <td>Андреев</td>\n",
       "      <td>текущая</td>\n",
       "      <td>NaN</td>\n",
       "      <td>оригинал</td>\n",
       "      <td>2021-06-08</td>\n",
       "      <td>0.0</td>\n",
       "      <td>6.0</td>\n",
       "      <td>2021.0</td>\n",
       "      <td>255.35</td>\n",
       "    </tr>\n",
       "    <tr>\n",
       "      <th>9</th>\n",
       "      <td>24.0</td>\n",
       "      <td>16347.7</td>\n",
       "      <td>ОПЛАЧЕНО</td>\n",
       "      <td>Андреев</td>\n",
       "      <td>новая</td>\n",
       "      <td>NaN</td>\n",
       "      <td>оригинал</td>\n",
       "      <td>2021-06-23</td>\n",
       "      <td>0.0</td>\n",
       "      <td>6.0</td>\n",
       "      <td>2021.0</td>\n",
       "      <td>1144.34</td>\n",
       "    </tr>\n",
       "  </tbody>\n",
       "</table>\n",
       "</div>"
      ],
      "text/plain": [
       "   client_id      sum      status       sale new/current  Unnamed: 5  \\\n",
       "0        NaN      NaN    Май 2021        NaN         NaN         NaN   \n",
       "1        6.0  11693.7  ВНУТРЕННИЙ          -           -         NaN   \n",
       "2       14.0   5452.7    ОПЛАЧЕНО    Петрова       новая         NaN   \n",
       "3       15.0  13991.7    ОПЛАЧЕНО     Иванов     текущая         NaN   \n",
       "4       16.0    719.7    ОПЛАЧЕНО     Иванов     текущая         NaN   \n",
       "5       18.0   4253.7    ОПЛАЧЕНО     Иванов     текущая         NaN   \n",
       "6       20.0   5796.7    ОПЛАЧЕНО  Кузнецова     текущая         NaN   \n",
       "7       21.0   3613.7    ОПЛАЧЕНО  Кузнецова     текущая         NaN   \n",
       "8       23.0   8511.7    ОПЛАЧЕНО    Андреев     текущая         NaN   \n",
       "9       24.0  16347.7    ОПЛАЧЕНО    Андреев       новая         NaN   \n",
       "\n",
       "   document receiving_date  receiving_hour  receiving_month  receiving_year  \\\n",
       "0       NaN            NaT             NaN              NaN             NaN   \n",
       "1         -            NaT             NaN              NaN             NaN   \n",
       "2  оригинал     2021-07-26             0.0              7.0          2021.0   \n",
       "3  оригинал     2021-06-08             0.0              6.0          2021.0   \n",
       "4  оригинал     2021-06-08             0.0              6.0          2021.0   \n",
       "5  оригинал     2021-07-07             0.0              7.0          2021.0   \n",
       "6  оригинал     2021-07-15             0.0              7.0          2021.0   \n",
       "7  оригинал     2021-10-13             0.0             10.0          2021.0   \n",
       "8  оригинал     2021-06-08             0.0              6.0          2021.0   \n",
       "9  оригинал     2021-06-23             0.0              6.0          2021.0   \n",
       "\n",
       "   sales_bonus  \n",
       "0         0.00  \n",
       "1         0.00  \n",
       "2       381.69  \n",
       "3       699.59  \n",
       "4        21.59  \n",
       "5       127.61  \n",
       "6       173.90  \n",
       "7       108.41  \n",
       "8       255.35  \n",
       "9      1144.34  "
      ]
     },
     "execution_count": 118,
     "metadata": {},
     "output_type": "execute_result"
    }
   ],
   "source": [
    "df.head(10)"
   ]
  },
  {
   "cell_type": "code",
   "execution_count": 120,
   "id": "3ad3f164-ad30-4ea2-bd27-8ff62c7f7206",
   "metadata": {},
   "outputs": [
    {
     "data": {
      "text/html": [
       "<div>\n",
       "<style scoped>\n",
       "    .dataframe tbody tr th:only-of-type {\n",
       "        vertical-align: middle;\n",
       "    }\n",
       "\n",
       "    .dataframe tbody tr th {\n",
       "        vertical-align: top;\n",
       "    }\n",
       "\n",
       "    .dataframe thead th {\n",
       "        text-align: right;\n",
       "    }\n",
       "</style>\n",
       "<table border=\"1\" class=\"dataframe\">\n",
       "  <thead>\n",
       "    <tr style=\"text-align: right;\">\n",
       "      <th></th>\n",
       "      <th>sales_bonus</th>\n",
       "    </tr>\n",
       "    <tr>\n",
       "      <th>sale</th>\n",
       "      <th></th>\n",
       "    </tr>\n",
       "  </thead>\n",
       "  <tbody>\n",
       "    <tr>\n",
       "      <th>Андреев</th>\n",
       "      <td>27164.33</td>\n",
       "    </tr>\n",
       "    <tr>\n",
       "      <th>Васильев</th>\n",
       "      <td>6934.62</td>\n",
       "    </tr>\n",
       "    <tr>\n",
       "      <th>Иванов</th>\n",
       "      <td>22041.63</td>\n",
       "    </tr>\n",
       "    <tr>\n",
       "      <th>Кузнецова</th>\n",
       "      <td>16108.75</td>\n",
       "    </tr>\n",
       "    <tr>\n",
       "      <th>Михайлов</th>\n",
       "      <td>607.07</td>\n",
       "    </tr>\n",
       "    <tr>\n",
       "      <th>Петрова</th>\n",
       "      <td>28282.41</td>\n",
       "    </tr>\n",
       "    <tr>\n",
       "      <th>Селиванов</th>\n",
       "      <td>7102.47</td>\n",
       "    </tr>\n",
       "    <tr>\n",
       "      <th>Смирнов</th>\n",
       "      <td>31089.65</td>\n",
       "    </tr>\n",
       "    <tr>\n",
       "      <th>Соколов</th>\n",
       "      <td>3730.70</td>\n",
       "    </tr>\n",
       "    <tr>\n",
       "      <th>Филимонова</th>\n",
       "      <td>11043.56</td>\n",
       "    </tr>\n",
       "  </tbody>\n",
       "</table>\n",
       "</div>"
      ],
      "text/plain": [
       "            sales_bonus\n",
       "sale                   \n",
       "Андреев        27164.33\n",
       "Васильев        6934.62\n",
       "Иванов         22041.63\n",
       "Кузнецова      16108.75\n",
       "Михайлов         607.07\n",
       "Петрова        28282.41\n",
       "Селиванов       7102.47\n",
       "Смирнов        31089.65\n",
       "Соколов         3730.70\n",
       "Филимонова     11043.56"
      ]
     },
     "execution_count": 120,
     "metadata": {},
     "output_type": "execute_result"
    }
   ],
   "source": [
    "df[df.receiving_date > '2021-07-01'].groupby('sale').agg({'sales_bonus' : 'sum'})"
   ]
  },
  {
   "cell_type": "code",
   "execution_count": null,
   "id": "bfa37ce0-5fe3-4461-a82e-6b0aab8b964f",
   "metadata": {},
   "outputs": [],
   "source": []
  }
 ],
 "metadata": {
  "kernelspec": {
   "display_name": "Python 3 (ipykernel)",
   "language": "python",
   "name": "python3"
  },
  "language_info": {
   "codemirror_mode": {
    "name": "ipython",
    "version": 3
   },
   "file_extension": ".py",
   "mimetype": "text/x-python",
   "name": "python",
   "nbconvert_exporter": "python",
   "pygments_lexer": "ipython3",
   "version": "3.11.3"
  }
 },
 "nbformat": 4,
 "nbformat_minor": 5
}
